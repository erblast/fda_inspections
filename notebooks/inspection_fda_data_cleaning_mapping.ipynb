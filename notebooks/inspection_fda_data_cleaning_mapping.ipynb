{
 "cells": [
  {
   "cell_type": "code",
   "execution_count": 1,
   "metadata": {
    "hide_input": true,
    "inputHidden": true,
    "papermill": {
     "duration": 0.066741,
     "end_time": "2019-12-11T13:04:19.835686",
     "exception": false,
     "start_time": "2019-12-11T13:04:19.768945",
     "status": "completed"
    },
    "tags": []
   },
   "outputs": [
    {
     "data": {
      "text/html": [
       "<span style=\"color:red; font-family:Helvetica Neue, Helvetica, Arial, sans-serif; font-size:2em;\">An Exception was encountered at 'In [5]'.</span>\n"
      ],
      "text/plain": [
       "<IPython.core.display.HTML object>"
      ]
     },
     "metadata": {},
     "output_type": "display_data"
    }
   ],
   "source": [
    "%%html\n",
    "<span style=\"color:red; font-family:Helvetica Neue, Helvetica, Arial, sans-serif; font-size:2em;\">An Exception was encountered at 'In [5]'.</span>"
   ]
  },
  {
   "cell_type": "code",
   "execution_count": 2,
   "metadata": {
    "hide_input": true,
    "inputHidden": true,
    "papermill": {
     "duration": 0.047342,
     "end_time": "2019-12-11T13:04:19.918906",
     "exception": false,
     "start_time": "2019-12-11T13:04:19.871564",
     "status": "completed"
    },
    "tags": []
   },
   "outputs": [
    {
     "data": {
      "text/html": [
       "<span style=\"color:red; font-family:Helvetica Neue, Helvetica, Arial, sans-serif; font-size:2em;\">An Exception was encountered at 'In [3]'.</span>\n"
      ],
      "text/plain": [
       "<IPython.core.display.HTML object>"
      ]
     },
     "metadata": {},
     "output_type": "display_data"
    }
   ],
   "source": [
    "%%html\n",
    "<span style=\"color:red; font-family:Helvetica Neue, Helvetica, Arial, sans-serif; font-size:2em;\">An Exception was encountered at 'In [3]'.</span>"
   ]
  },
  {
   "cell_type": "markdown",
   "metadata": {
    "papermill": {
     "duration": 0.039742,
     "end_time": "2019-12-11T13:04:19.999226",
     "exception": false,
     "start_time": "2019-12-11T13:04:19.959484",
     "status": "completed"
    },
    "tags": []
   },
   "source": [
    "## FDA inspection data analytics - build the dataset"
   ]
  },
  {
   "cell_type": "markdown",
   "metadata": {
    "papermill": {
     "duration": 0.038012,
     "end_time": "2019-12-11T13:04:20.076333",
     "exception": false,
     "start_time": "2019-12-11T13:04:20.038321",
     "status": "completed"
    },
    "tags": []
   },
   "source": [
    "## load libraries"
   ]
  },
  {
   "cell_type": "code",
   "execution_count": 3,
   "metadata": {
    "papermill": {
     "duration": 0.046453,
     "end_time": "2019-12-11T13:04:20.159406",
     "exception": false,
     "start_time": "2019-12-11T13:04:20.112953",
     "status": "completed"
    },
    "tags": [
     "parameters"
    ]
   },
   "outputs": [],
   "source": [
    "file = '../data/input/raw_clinical_investigator_inspection_fc.xls'\n",
    "file2 = '../data/input/raw_clinical_investigator_inspection_da.xls'\n",
    "file_map = '../data/input/refined_mapping_fda_inspections_code.csv'\n",
    "file_out = '../data/output/final_set_FDA.csv'"
   ]
  },
  {
   "cell_type": "code",
   "execution_count": 4,
   "metadata": {
    "papermill": {
     "duration": 0.052569,
     "end_time": "2019-12-11T13:04:20.254391",
     "exception": false,
     "start_time": "2019-12-11T13:04:20.201822",
     "status": "completed"
    },
    "tags": [
     "injected-parameters"
    ]
   },
   "outputs": [],
   "source": [
    "# Parameters\n",
    "file = \"data/input/raw_clinical_investigator_inspection_fc.xls\"\n",
    "file2 = \"data/input/raw_clinical_investigator_inspection_da.xls\"\n",
    "file_map = \"data/input/refined_mapping_fda_inspections_code.csv\"\n",
    "file_out = \"data/output/final_set_FDA.csv\"\n"
   ]
  },
  {
   "cell_type": "code",
   "execution_count": 5,
   "metadata": {
    "papermill": {
     "duration": 0.338508,
     "end_time": "2019-12-11T13:04:20.628027",
     "exception": false,
     "start_time": "2019-12-11T13:04:20.289519",
     "status": "completed"
    },
    "tags": []
   },
   "outputs": [],
   "source": [
    "import numpy as np\n",
    "import os as os\n",
    "import pandas as pd\n",
    "import xlrd \n"
   ]
  },
  {
   "cell_type": "markdown",
   "metadata": {
    "papermill": {
     "duration": 0.041882,
     "end_time": "2019-12-11T13:04:20.707291",
     "exception": false,
     "start_time": "2019-12-11T13:04:20.665409",
     "status": "completed"
    },
    "tags": []
   },
   "source": [
    "## load and clean fda inspections data"
   ]
  },
  {
   "cell_type": "code",
   "execution_count": 6,
   "metadata": {
    "papermill": {
     "duration": 0.387109,
     "end_time": "2019-12-11T13:04:21.132807",
     "exception": false,
     "start_time": "2019-12-11T13:04:20.745698",
     "status": "completed"
    },
    "tags": []
   },
   "outputs": [],
   "source": [
    "xl = pd.ExcelFile(file)\n",
    "\n",
    "df_fc = xl.parse('Sheet1')\n",
    "\n",
    "\n",
    "xl = pd.ExcelFile(file2)\n",
    "\n",
    "df_da = xl.parse('Sheet1')"
   ]
  },
  {
   "cell_type": "code",
   "execution_count": 7,
   "metadata": {
    "papermill": {
     "duration": 0.047717,
     "end_time": "2019-12-11T13:04:21.224215",
     "exception": false,
     "start_time": "2019-12-11T13:04:21.176498",
     "status": "completed"
    },
    "tags": []
   },
   "outputs": [
    {
     "name": "stdout",
     "output_type": "stream",
     "text": [
      "(2500, 12)\n",
      "(1748, 12)\n"
     ]
    }
   ],
   "source": [
    "print(df_da.shape)\n",
    "print (df_fc.shape)"
   ]
  },
  {
   "cell_type": "code",
   "execution_count": 8,
   "metadata": {
    "papermill": {
     "duration": 0.045005,
     "end_time": "2019-12-11T13:04:21.304277",
     "exception": false,
     "start_time": "2019-12-11T13:04:21.259272",
     "status": "completed"
    },
    "tags": []
   },
   "outputs": [],
   "source": [
    "# append the two df\n",
    "df_insp = df_da.append(df_fc, ignore_index = True)"
   ]
  },
  {
   "cell_type": "code",
   "execution_count": 9,
   "metadata": {
    "papermill": {
     "duration": 0.044814,
     "end_time": "2019-12-11T13:04:21.384379",
     "exception": false,
     "start_time": "2019-12-11T13:04:21.339565",
     "status": "completed"
    },
    "tags": []
   },
   "outputs": [
    {
     "name": "stdout",
     "output_type": "stream",
     "text": [
      "(4248, 12)\n"
     ]
    }
   ],
   "source": [
    "print(df_insp.shape)"
   ]
  },
  {
   "cell_type": "code",
   "execution_count": 10,
   "metadata": {
    "papermill": {
     "duration": 0.060174,
     "end_time": "2019-12-11T13:04:21.483075",
     "exception": false,
     "start_time": "2019-12-11T13:04:21.422901",
     "status": "completed"
    },
    "tags": []
   },
   "outputs": [
    {
     "data": {
      "text/html": [
       "<div>\n",
       "<style scoped>\n",
       "    .dataframe tbody tr th:only-of-type {\n",
       "        vertical-align: middle;\n",
       "    }\n",
       "\n",
       "    .dataframe tbody tr th {\n",
       "        vertical-align: top;\n",
       "    }\n",
       "\n",
       "    .dataframe thead th {\n",
       "        text-align: right;\n",
       "    }\n",
       "</style>\n",
       "<table border=\"1\" class=\"dataframe\">\n",
       "  <thead>\n",
       "    <tr style=\"text-align: right;\">\n",
       "      <th></th>\n",
       "      <th>ID No.</th>\n",
       "      <th>Name</th>\n",
       "      <th>Location</th>\n",
       "      <th>Address</th>\n",
       "      <th>City</th>\n",
       "      <th>State</th>\n",
       "      <th>Cntry</th>\n",
       "      <th>Zip</th>\n",
       "      <th>Insp. Date</th>\n",
       "      <th>Insp. Type</th>\n",
       "      <th>Insp. Class.</th>\n",
       "      <th>Insp. Def. Codes</th>\n",
       "    </tr>\n",
       "  </thead>\n",
       "  <tbody>\n",
       "    <tr>\n",
       "      <th>0</th>\n",
       "      <td>953</td>\n",
       "      <td>Iber,   Frank   L    MD</td>\n",
       "      <td>Edward Hines Jr Hosp</td>\n",
       "      <td>Po Box 5000</td>\n",
       "      <td>Hines</td>\n",
       "      <td>IL</td>\n",
       "      <td>USA</td>\n",
       "      <td>60141</td>\n",
       "      <td></td>\n",
       "      <td>DA</td>\n",
       "      <td>WASH</td>\n",
       "      <td></td>\n",
       "    </tr>\n",
       "    <tr>\n",
       "      <th>1</th>\n",
       "      <td>1774</td>\n",
       "      <td>Jolly,   Henry   W  JR  MD</td>\n",
       "      <td>Louisiana State Univ</td>\n",
       "      <td>1542 Tulane Ave</td>\n",
       "      <td>New Orleans</td>\n",
       "      <td>LA</td>\n",
       "      <td>USA</td>\n",
       "      <td>70112</td>\n",
       "      <td></td>\n",
       "      <td>DA</td>\n",
       "      <td>WASH</td>\n",
       "      <td></td>\n",
       "    </tr>\n",
       "    <tr>\n",
       "      <th>2</th>\n",
       "      <td>2211</td>\n",
       "      <td>Y,   Joseph   R    MD</td>\n",
       "      <td>Ohio State Univ</td>\n",
       "      <td>333 W 10Th Ave</td>\n",
       "      <td>Columbus</td>\n",
       "      <td>OH</td>\n",
       "      <td>USA</td>\n",
       "      <td>43210</td>\n",
       "      <td></td>\n",
       "      <td>DA</td>\n",
       "      <td>WASH</td>\n",
       "      <td></td>\n",
       "    </tr>\n",
       "    <tr>\n",
       "      <th>3</th>\n",
       "      <td>5878</td>\n",
       "      <td>Pine,   Michael   B    MD</td>\n",
       "      <td>Va Med Ctr</td>\n",
       "      <td>-</td>\n",
       "      <td>Long Beach</td>\n",
       "      <td>CA</td>\n",
       "      <td>USA</td>\n",
       "      <td>90822</td>\n",
       "      <td></td>\n",
       "      <td>DA</td>\n",
       "      <td>CANC</td>\n",
       "      <td></td>\n",
       "    </tr>\n",
       "    <tr>\n",
       "      <th>4</th>\n",
       "      <td>6280</td>\n",
       "      <td>Sung,   Ruey   J    MD</td>\n",
       "      <td>Stanford Univ Med Ctr</td>\n",
       "      <td>300 Pasteur Dr Rm H2146</td>\n",
       "      <td>Stanford</td>\n",
       "      <td>CA</td>\n",
       "      <td>USA</td>\n",
       "      <td>94305</td>\n",
       "      <td></td>\n",
       "      <td>DA</td>\n",
       "      <td>CANC</td>\n",
       "      <td></td>\n",
       "    </tr>\n",
       "    <tr>\n",
       "      <th>...</th>\n",
       "      <td>...</td>\n",
       "      <td>...</td>\n",
       "      <td>...</td>\n",
       "      <td>...</td>\n",
       "      <td>...</td>\n",
       "      <td>...</td>\n",
       "      <td>...</td>\n",
       "      <td>...</td>\n",
       "      <td>...</td>\n",
       "      <td>...</td>\n",
       "      <td>...</td>\n",
       "      <td>...</td>\n",
       "    </tr>\n",
       "    <tr>\n",
       "      <th>4243</th>\n",
       "      <td>707559</td>\n",
       "      <td>Raghavan,   Preeti       MD</td>\n",
       "      <td>Rusk Rehabilitation, New York Univ.School Of M...</td>\n",
       "      <td>240 East 38Th Street, Ambulatory Care</td>\n",
       "      <td>New York</td>\n",
       "      <td>NY</td>\n",
       "      <td>USA</td>\n",
       "      <td>10016</td>\n",
       "      <td>10/11/18</td>\n",
       "      <td>FC</td>\n",
       "      <td>NAI</td>\n",
       "      <td>00</td>\n",
       "    </tr>\n",
       "    <tr>\n",
       "      <th>4244</th>\n",
       "      <td>710371</td>\n",
       "      <td>Phan,   Han   C    MD</td>\n",
       "      <td>Rare Disease Research, Llc</td>\n",
       "      <td>1891 Howell Mill Rd Nw Ste B</td>\n",
       "      <td>Atlanta</td>\n",
       "      <td>GA</td>\n",
       "      <td>USA</td>\n",
       "      <td>30318</td>\n",
       "      <td>11/15/18</td>\n",
       "      <td>FC</td>\n",
       "      <td>NAI</td>\n",
       "      <td>00</td>\n",
       "    </tr>\n",
       "    <tr>\n",
       "      <th>4245</th>\n",
       "      <td>712118</td>\n",
       "      <td>Aslam,   Zaheer</td>\n",
       "      <td>Gulfcoast Clinical Research Center</td>\n",
       "      <td>6150 Diamond Centre Court Bldg 500</td>\n",
       "      <td>Fort Myers</td>\n",
       "      <td>FL</td>\n",
       "      <td>USA</td>\n",
       "      <td>33912</td>\n",
       "      <td>12/10/18</td>\n",
       "      <td>FC</td>\n",
       "      <td>NAI</td>\n",
       "      <td>00</td>\n",
       "    </tr>\n",
       "    <tr>\n",
       "      <th>4246</th>\n",
       "      <td>713788</td>\n",
       "      <td>Ledo-Sanchez,   Gustavo   G</td>\n",
       "      <td>Best Quality Research, Inc</td>\n",
       "      <td>2387 West 68Th Street Suite 403</td>\n",
       "      <td>Hialeah</td>\n",
       "      <td>FL</td>\n",
       "      <td>USA</td>\n",
       "      <td>33016</td>\n",
       "      <td>10/29/18</td>\n",
       "      <td>FC</td>\n",
       "      <td>NAI</td>\n",
       "      <td>00</td>\n",
       "    </tr>\n",
       "    <tr>\n",
       "      <th>4247</th>\n",
       "      <td>719450</td>\n",
       "      <td>Hassan,   Kazi       MD</td>\n",
       "      <td>Florida Medical Pain Management</td>\n",
       "      <td>6333 54Th Avenue North</td>\n",
       "      <td>St Petersburg</td>\n",
       "      <td>FL</td>\n",
       "      <td>USA</td>\n",
       "      <td>33709</td>\n",
       "      <td>03/05/19</td>\n",
       "      <td>FC</td>\n",
       "      <td>NAI</td>\n",
       "      <td>00</td>\n",
       "    </tr>\n",
       "  </tbody>\n",
       "</table>\n",
       "<p>4248 rows × 12 columns</p>\n",
       "</div>"
      ],
      "text/plain": [
       "      ID No.                         Name  \\\n",
       "0        953      Iber,   Frank   L    MD   \n",
       "1       1774   Jolly,   Henry   W  JR  MD   \n",
       "2       2211        Y,   Joseph   R    MD   \n",
       "3       5878    Pine,   Michael   B    MD   \n",
       "4       6280       Sung,   Ruey   J    MD   \n",
       "...      ...                          ...   \n",
       "4243  707559  Raghavan,   Preeti       MD   \n",
       "4244  710371        Phan,   Han   C    MD   \n",
       "4245  712118              Aslam,   Zaheer   \n",
       "4246  713788  Ledo-Sanchez,   Gustavo   G   \n",
       "4247  719450      Hassan,   Kazi       MD   \n",
       "\n",
       "                                               Location  \\\n",
       "0                                  Edward Hines Jr Hosp   \n",
       "1                                  Louisiana State Univ   \n",
       "2                                       Ohio State Univ   \n",
       "3                                            Va Med Ctr   \n",
       "4                                 Stanford Univ Med Ctr   \n",
       "...                                                 ...   \n",
       "4243  Rusk Rehabilitation, New York Univ.School Of M...   \n",
       "4244                         Rare Disease Research, Llc   \n",
       "4245                 Gulfcoast Clinical Research Center   \n",
       "4246                         Best Quality Research, Inc   \n",
       "4247                    Florida Medical Pain Management   \n",
       "\n",
       "                                    Address           City State Cntry    Zip  \\\n",
       "0                               Po Box 5000          Hines    IL   USA  60141   \n",
       "1                           1542 Tulane Ave    New Orleans    LA   USA  70112   \n",
       "2                            333 W 10Th Ave       Columbus    OH   USA  43210   \n",
       "3                                         -     Long Beach    CA   USA  90822   \n",
       "4                   300 Pasteur Dr Rm H2146       Stanford    CA   USA  94305   \n",
       "...                                     ...            ...   ...   ...    ...   \n",
       "4243  240 East 38Th Street, Ambulatory Care       New York    NY   USA  10016   \n",
       "4244           1891 Howell Mill Rd Nw Ste B        Atlanta    GA   USA  30318   \n",
       "4245     6150 Diamond Centre Court Bldg 500     Fort Myers    FL   USA  33912   \n",
       "4246        2387 West 68Th Street Suite 403        Hialeah    FL   USA  33016   \n",
       "4247                 6333 54Th Avenue North  St Petersburg    FL   USA  33709   \n",
       "\n",
       "     Insp. Date Insp. Type Insp. Class. Insp. Def. Codes  \n",
       "0                       DA         WASH                   \n",
       "1                       DA         WASH                   \n",
       "2                       DA         WASH                   \n",
       "3                       DA         CANC                   \n",
       "4                       DA         CANC                   \n",
       "...         ...        ...          ...              ...  \n",
       "4243   10/11/18         FC          NAI               00  \n",
       "4244   11/15/18         FC          NAI               00  \n",
       "4245   12/10/18         FC          NAI               00  \n",
       "4246   10/29/18         FC          NAI               00  \n",
       "4247   03/05/19         FC          NAI               00  \n",
       "\n",
       "[4248 rows x 12 columns]"
      ]
     },
     "execution_count": 10,
     "metadata": {},
     "output_type": "execute_result"
    }
   ],
   "source": [
    "df_insp"
   ]
  },
  {
   "cell_type": "code",
   "execution_count": 11,
   "metadata": {
    "papermill": {
     "duration": 0.049883,
     "end_time": "2019-12-11T13:04:21.569848",
     "exception": false,
     "start_time": "2019-12-11T13:04:21.519965",
     "status": "completed"
    },
    "tags": []
   },
   "outputs": [],
   "source": [
    "# rename the 'Insp. Def. codes' to 'insp_codes' and \n",
    "df_insp.rename(columns={'Insp. Def. Codes':'insp_codes'}, inplace=True)\n",
    "df_insp.rename(columns={'Insp. Class.':'insp_class'}, inplace=True)"
   ]
  },
  {
   "cell_type": "code",
   "execution_count": 12,
   "metadata": {
    "papermill": {
     "duration": 0.047261,
     "end_time": "2019-12-11T13:04:21.654434",
     "exception": false,
     "start_time": "2019-12-11T13:04:21.607173",
     "status": "completed"
    },
    "tags": []
   },
   "outputs": [],
   "source": [
    "# convert code '00' and '0' (=no finding noted) into '22' to avoid issues mixing up with NaN\n",
    "df_insp['insp_codes'].replace(['00'], '22', inplace=True)\n",
    "df_insp['insp_codes'].replace(['0'], '22', inplace=True)"
   ]
  },
  {
   "cell_type": "code",
   "execution_count": 13,
   "metadata": {
    "papermill": {
     "duration": 0.083773,
     "end_time": "2019-12-11T13:04:21.776238",
     "exception": false,
     "start_time": "2019-12-11T13:04:21.692465",
     "status": "completed"
    },
    "tags": []
   },
   "outputs": [],
   "source": [
    "# convert empty/blank cells in 'insp_codes'(=with no inspection data) into NaN\n",
    "df_insp = df_insp.replace(r'^\\s+$', np.nan, regex=True)"
   ]
  },
  {
   "cell_type": "code",
   "execution_count": 14,
   "metadata": {
    "papermill": {
     "duration": 0.053161,
     "end_time": "2019-12-11T13:04:21.866933",
     "exception": false,
     "start_time": "2019-12-11T13:04:21.813772",
     "status": "completed"
    },
    "tags": []
   },
   "outputs": [
    {
     "name": "stdout",
     "output_type": "stream",
     "text": [
      "(4199, 12)\n"
     ]
    }
   ],
   "source": [
    "# drop washout inspections\n",
    "df_insp1 = df_insp[df_insp.insp_class != 'WASH']\n",
    "print(df_insp1.shape)"
   ]
  },
  {
   "cell_type": "code",
   "execution_count": 15,
   "metadata": {
    "papermill": {
     "duration": 0.051276,
     "end_time": "2019-12-11T13:04:21.954602",
     "exception": false,
     "start_time": "2019-12-11T13:04:21.903326",
     "status": "completed"
    },
    "tags": []
   },
   "outputs": [
    {
     "name": "stdout",
     "output_type": "stream",
     "text": [
      "(4072, 12)\n"
     ]
    }
   ],
   "source": [
    "# drop canceled inspections\n",
    "insp_data = df_insp1[df_insp1.insp_class != 'CANC']\n",
    "print(insp_data.shape)"
   ]
  },
  {
   "cell_type": "code",
   "execution_count": 16,
   "metadata": {
    "papermill": {
     "duration": 0.052416,
     "end_time": "2019-12-11T13:04:22.045111",
     "exception": false,
     "start_time": "2019-12-11T13:04:21.992695",
     "status": "completed"
    },
    "tags": []
   },
   "outputs": [
    {
     "name": "stdout",
     "output_type": "stream",
     "text": [
      "(961, 12)\n"
     ]
    }
   ],
   "source": [
    "# look for inspections with no action required 'NAI' but w/o code assigned\n",
    "\n",
    "insp_data_NULL = insp_data[insp_data['insp_codes'].isnull()]\n",
    "print(insp_data_NULL.shape)"
   ]
  },
  {
   "cell_type": "code",
   "execution_count": 17,
   "metadata": {
    "papermill": {
     "duration": 0.049013,
     "end_time": "2019-12-11T13:04:22.132987",
     "exception": false,
     "start_time": "2019-12-11T13:04:22.083974",
     "status": "completed"
    },
    "tags": []
   },
   "outputs": [
    {
     "name": "stdout",
     "output_type": "stream",
     "text": [
      "(639, 12)\n"
     ]
    }
   ],
   "source": [
    "insp_data_NAI_and_null = insp_data_NULL[insp_data_NULL['insp_class'] == 'NAI']\n",
    "print(insp_data_NAI_and_null.shape)"
   ]
  },
  {
   "cell_type": "code",
   "execution_count": 18,
   "metadata": {
    "papermill": {
     "duration": 0.056446,
     "end_time": "2019-12-11T13:04:22.228608",
     "exception": false,
     "start_time": "2019-12-11T13:04:22.172162",
     "status": "completed"
    },
    "tags": []
   },
   "outputs": [
    {
     "name": "stdout",
     "output_type": "stream",
     "text": [
      "(4072, 12)\n"
     ]
    },
    {
     "name": "stderr",
     "output_type": "stream",
     "text": [
      "/opt/conda/lib/python3.7/site-packages/pandas/core/indexing.py:494: SettingWithCopyWarning: \n",
      "A value is trying to be set on a copy of a slice from a DataFrame.\n",
      "Try using .loc[row_indexer,col_indexer] = value instead\n",
      "\n",
      "See the caveats in the documentation: http://pandas.pydata.org/pandas-docs/stable/user_guide/indexing.html#returning-a-view-versus-a-copy\n",
      "  self.obj[item] = s\n"
     ]
    }
   ],
   "source": [
    "# there are inspections with insp_class = No Action Indicated (NAI) w/o inspection code\n",
    "# assign them 'insp_code' = 22\n",
    "\n",
    "insp_data.loc[(insp_data['insp_class'] == 'NAI'), 'insp_codes'] = '22'\n",
    "print(insp_data.shape)"
   ]
  },
  {
   "cell_type": "code",
   "execution_count": 19,
   "metadata": {
    "papermill": {
     "duration": 0.049506,
     "end_time": "2019-12-11T13:04:22.317560",
     "exception": false,
     "start_time": "2019-12-11T13:04:22.268054",
     "status": "completed"
    },
    "tags": []
   },
   "outputs": [
    {
     "name": "stdout",
     "output_type": "stream",
     "text": [
      "(322, 12)\n"
     ]
    }
   ],
   "source": [
    "# check numbers add up\n",
    "\n",
    "print((insp_data[insp_data['insp_codes'].isnull()]).shape)\n",
    "\n",
    "# 961 rows with NaN = 639 insp_class = 'NAI' AND insp_code= '22' + 322 insp_code = NaN\n",
    "# ---> OK"
   ]
  },
  {
   "cell_type": "code",
   "execution_count": 20,
   "metadata": {
    "papermill": {
     "duration": 0.049364,
     "end_time": "2019-12-11T13:04:22.406150",
     "exception": false,
     "start_time": "2019-12-11T13:04:22.356786",
     "status": "completed"
    },
    "tags": []
   },
   "outputs": [],
   "source": [
    "# look for rows with typos\n",
    "value_list = [',', ',,',',,,']"
   ]
  },
  {
   "cell_type": "code",
   "execution_count": 21,
   "metadata": {
    "papermill": {
     "duration": 0.057042,
     "end_time": "2019-12-11T13:04:22.503191",
     "exception": false,
     "start_time": "2019-12-11T13:04:22.446149",
     "status": "completed"
    },
    "tags": []
   },
   "outputs": [
    {
     "data": {
      "text/html": [
       "<div>\n",
       "<style scoped>\n",
       "    .dataframe tbody tr th:only-of-type {\n",
       "        vertical-align: middle;\n",
       "    }\n",
       "\n",
       "    .dataframe tbody tr th {\n",
       "        vertical-align: top;\n",
       "    }\n",
       "\n",
       "    .dataframe thead th {\n",
       "        text-align: right;\n",
       "    }\n",
       "</style>\n",
       "<table border=\"1\" class=\"dataframe\">\n",
       "  <thead>\n",
       "    <tr style=\"text-align: right;\">\n",
       "      <th></th>\n",
       "      <th>ID No.</th>\n",
       "      <th>Name</th>\n",
       "      <th>Location</th>\n",
       "      <th>Address</th>\n",
       "      <th>City</th>\n",
       "      <th>State</th>\n",
       "      <th>Cntry</th>\n",
       "      <th>Zip</th>\n",
       "      <th>Insp. Date</th>\n",
       "      <th>Insp. Type</th>\n",
       "      <th>insp_class</th>\n",
       "      <th>insp_codes</th>\n",
       "    </tr>\n",
       "  </thead>\n",
       "  <tbody>\n",
       "    <tr>\n",
       "      <th>311</th>\n",
       "      <td>56699</td>\n",
       "      <td>Scharf,   Martin   B    PHD</td>\n",
       "      <td>Ctr Res Sleep Disorders/Tristate Sleep Disorde...</td>\n",
       "      <td>1275 E Kemper Rd</td>\n",
       "      <td>Cincinnati</td>\n",
       "      <td>OH</td>\n",
       "      <td>USA</td>\n",
       "      <td>45246</td>\n",
       "      <td>02/06/01</td>\n",
       "      <td>DA</td>\n",
       "      <td>OAIW</td>\n",
       "      <td>,</td>\n",
       "    </tr>\n",
       "    <tr>\n",
       "      <th>2783</th>\n",
       "      <td>99809</td>\n",
       "      <td>Moskowitz,   George       MD</td>\n",
       "      <td>-</td>\n",
       "      <td>101 Rutledge St</td>\n",
       "      <td>Charlestown</td>\n",
       "      <td>SC</td>\n",
       "      <td>USA</td>\n",
       "      <td>00000</td>\n",
       "      <td>05/29/81</td>\n",
       "      <td>FC</td>\n",
       "      <td>OAIC</td>\n",
       "      <td>,</td>\n",
       "    </tr>\n",
       "  </tbody>\n",
       "</table>\n",
       "</div>"
      ],
      "text/plain": [
       "      ID No.                          Name  \\\n",
       "311    56699   Scharf,   Martin   B    PHD   \n",
       "2783   99809  Moskowitz,   George       MD   \n",
       "\n",
       "                                               Location           Address  \\\n",
       "311   Ctr Res Sleep Disorders/Tristate Sleep Disorde...  1275 E Kemper Rd   \n",
       "2783                                                  -   101 Rutledge St   \n",
       "\n",
       "             City State Cntry    Zip Insp. Date Insp. Type insp_class  \\\n",
       "311    Cincinnati    OH   USA  45246   02/06/01         DA       OAIW   \n",
       "2783  Charlestown    SC   USA  00000   05/29/81         FC       OAIC   \n",
       "\n",
       "     insp_codes  \n",
       "311           ,  \n",
       "2783          ,  "
      ]
     },
     "execution_count": 21,
     "metadata": {},
     "output_type": "execute_result"
    }
   ],
   "source": [
    "insp_data[insp_data.insp_codes.isin(value_list)]"
   ]
  },
  {
   "cell_type": "code",
   "execution_count": 22,
   "metadata": {
    "papermill": {
     "duration": 0.052362,
     "end_time": "2019-12-11T13:04:22.596670",
     "exception": false,
     "start_time": "2019-12-11T13:04:22.544308",
     "status": "completed"
    },
    "tags": []
   },
   "outputs": [
    {
     "name": "stderr",
     "output_type": "stream",
     "text": [
      "/opt/conda/lib/python3.7/site-packages/pandas/core/generic.py:6786: SettingWithCopyWarning: \n",
      "A value is trying to be set on a copy of a slice from a DataFrame\n",
      "\n",
      "See the caveats in the documentation: http://pandas.pydata.org/pandas-docs/stable/user_guide/indexing.html#returning-a-view-versus-a-copy\n",
      "  self._update_inplace(new_data)\n"
     ]
    }
   ],
   "source": [
    "# replace typo with '23' (=no data available)\n",
    "insp_data['insp_codes'].replace([','], '23', inplace=True)"
   ]
  },
  {
   "cell_type": "code",
   "execution_count": 23,
   "metadata": {
    "papermill": {
     "duration": 0.049474,
     "end_time": "2019-12-11T13:04:22.686441",
     "exception": false,
     "start_time": "2019-12-11T13:04:22.636967",
     "status": "completed"
    },
    "tags": []
   },
   "outputs": [],
   "source": [
    "# replace typo (,00) - replace by 22\n",
    "insp_data['insp_codes'].replace([',00'], '22', inplace=True)"
   ]
  },
  {
   "cell_type": "code",
   "execution_count": 24,
   "metadata": {
    "papermill": {
     "duration": 0.064258,
     "end_time": "2019-12-11T13:04:22.790134",
     "exception": false,
     "start_time": "2019-12-11T13:04:22.725876",
     "status": "completed"
    },
    "tags": []
   },
   "outputs": [
    {
     "data": {
      "text/html": [
       "<div>\n",
       "<style scoped>\n",
       "    .dataframe tbody tr th:only-of-type {\n",
       "        vertical-align: middle;\n",
       "    }\n",
       "\n",
       "    .dataframe tbody tr th {\n",
       "        vertical-align: top;\n",
       "    }\n",
       "\n",
       "    .dataframe thead th {\n",
       "        text-align: right;\n",
       "    }\n",
       "</style>\n",
       "<table border=\"1\" class=\"dataframe\">\n",
       "  <thead>\n",
       "    <tr style=\"text-align: right;\">\n",
       "      <th></th>\n",
       "      <th>ID No.</th>\n",
       "      <th>Name</th>\n",
       "      <th>Location</th>\n",
       "      <th>Address</th>\n",
       "      <th>City</th>\n",
       "      <th>State</th>\n",
       "      <th>Cntry</th>\n",
       "      <th>Zip</th>\n",
       "      <th>Insp. Date</th>\n",
       "      <th>Insp. Type</th>\n",
       "      <th>insp_class</th>\n",
       "      <th>insp_codes</th>\n",
       "    </tr>\n",
       "  </thead>\n",
       "  <tbody>\n",
       "    <tr>\n",
       "      <th>43</th>\n",
       "      <td>449958</td>\n",
       "      <td>Wiley,   Kenneth   L    MD</td>\n",
       "      <td>New Orleans Clinl Trials Management</td>\n",
       "      <td>2200 Veterans Mem Blvd Ste 209</td>\n",
       "      <td>Kenner</td>\n",
       "      <td>LA</td>\n",
       "      <td>USA</td>\n",
       "      <td>70062</td>\n",
       "      <td>NaN</td>\n",
       "      <td>DA</td>\n",
       "      <td>MTF</td>\n",
       "      <td>NaN</td>\n",
       "    </tr>\n",
       "    <tr>\n",
       "      <th>46</th>\n",
       "      <td>539971</td>\n",
       "      <td>Benzar,   Zinoviy       MD</td>\n",
       "      <td>Brooklyn Med Inst</td>\n",
       "      <td>2072 Bath Ave</td>\n",
       "      <td>Brooklyn</td>\n",
       "      <td>NY</td>\n",
       "      <td>USA</td>\n",
       "      <td>11214</td>\n",
       "      <td>NaN</td>\n",
       "      <td>DA</td>\n",
       "      <td>MTF</td>\n",
       "      <td>NaN</td>\n",
       "    </tr>\n",
       "    <tr>\n",
       "      <th>47</th>\n",
       "      <td>13321</td>\n",
       "      <td>Nathan,   Robert   A    MD</td>\n",
       "      <td>Asthma &amp; Allergy Associates, P.C.</td>\n",
       "      <td>2709 N Tejon Std Ste. 202</td>\n",
       "      <td>Colorado Sprgs</td>\n",
       "      <td>CO</td>\n",
       "      <td>USA</td>\n",
       "      <td>80907</td>\n",
       "      <td>01/01/95</td>\n",
       "      <td>DA</td>\n",
       "      <td>VAI</td>\n",
       "      <td>03,05,06</td>\n",
       "    </tr>\n",
       "    <tr>\n",
       "      <th>48</th>\n",
       "      <td>438326</td>\n",
       "      <td>Young,   James   E    MD</td>\n",
       "      <td>Michigan Reproductive &amp; Ivf Ctr</td>\n",
       "      <td>221 Michigan Ste 406</td>\n",
       "      <td>Grand Rapids</td>\n",
       "      <td>MI</td>\n",
       "      <td>USA</td>\n",
       "      <td>49503</td>\n",
       "      <td>01/02/01</td>\n",
       "      <td>DA</td>\n",
       "      <td>VAI</td>\n",
       "      <td>03,04,05,06</td>\n",
       "    </tr>\n",
       "    <tr>\n",
       "      <th>49</th>\n",
       "      <td>228659</td>\n",
       "      <td>Peterson,   Daniel   L    MD</td>\n",
       "      <td>Sierra Internal Medicine Assoc</td>\n",
       "      <td>865 N Tahoe Blvd Ste 306 Box 7870</td>\n",
       "      <td>Incline Village</td>\n",
       "      <td>NV</td>\n",
       "      <td>USA</td>\n",
       "      <td>89451</td>\n",
       "      <td>01/02/13</td>\n",
       "      <td>DA</td>\n",
       "      <td>VAI</td>\n",
       "      <td>05</td>\n",
       "    </tr>\n",
       "    <tr>\n",
       "      <th>...</th>\n",
       "      <td>...</td>\n",
       "      <td>...</td>\n",
       "      <td>...</td>\n",
       "      <td>...</td>\n",
       "      <td>...</td>\n",
       "      <td>...</td>\n",
       "      <td>...</td>\n",
       "      <td>...</td>\n",
       "      <td>...</td>\n",
       "      <td>...</td>\n",
       "      <td>...</td>\n",
       "      <td>...</td>\n",
       "    </tr>\n",
       "    <tr>\n",
       "      <th>4243</th>\n",
       "      <td>707559</td>\n",
       "      <td>Raghavan,   Preeti       MD</td>\n",
       "      <td>Rusk Rehabilitation, New York Univ.School Of M...</td>\n",
       "      <td>240 East 38Th Street, Ambulatory Care</td>\n",
       "      <td>New York</td>\n",
       "      <td>NY</td>\n",
       "      <td>USA</td>\n",
       "      <td>10016</td>\n",
       "      <td>10/11/18</td>\n",
       "      <td>FC</td>\n",
       "      <td>NAI</td>\n",
       "      <td>22</td>\n",
       "    </tr>\n",
       "    <tr>\n",
       "      <th>4244</th>\n",
       "      <td>710371</td>\n",
       "      <td>Phan,   Han   C    MD</td>\n",
       "      <td>Rare Disease Research, Llc</td>\n",
       "      <td>1891 Howell Mill Rd Nw Ste B</td>\n",
       "      <td>Atlanta</td>\n",
       "      <td>GA</td>\n",
       "      <td>USA</td>\n",
       "      <td>30318</td>\n",
       "      <td>11/15/18</td>\n",
       "      <td>FC</td>\n",
       "      <td>NAI</td>\n",
       "      <td>22</td>\n",
       "    </tr>\n",
       "    <tr>\n",
       "      <th>4245</th>\n",
       "      <td>712118</td>\n",
       "      <td>Aslam,   Zaheer</td>\n",
       "      <td>Gulfcoast Clinical Research Center</td>\n",
       "      <td>6150 Diamond Centre Court Bldg 500</td>\n",
       "      <td>Fort Myers</td>\n",
       "      <td>FL</td>\n",
       "      <td>USA</td>\n",
       "      <td>33912</td>\n",
       "      <td>12/10/18</td>\n",
       "      <td>FC</td>\n",
       "      <td>NAI</td>\n",
       "      <td>22</td>\n",
       "    </tr>\n",
       "    <tr>\n",
       "      <th>4246</th>\n",
       "      <td>713788</td>\n",
       "      <td>Ledo-Sanchez,   Gustavo   G</td>\n",
       "      <td>Best Quality Research, Inc</td>\n",
       "      <td>2387 West 68Th Street Suite 403</td>\n",
       "      <td>Hialeah</td>\n",
       "      <td>FL</td>\n",
       "      <td>USA</td>\n",
       "      <td>33016</td>\n",
       "      <td>10/29/18</td>\n",
       "      <td>FC</td>\n",
       "      <td>NAI</td>\n",
       "      <td>22</td>\n",
       "    </tr>\n",
       "    <tr>\n",
       "      <th>4247</th>\n",
       "      <td>719450</td>\n",
       "      <td>Hassan,   Kazi       MD</td>\n",
       "      <td>Florida Medical Pain Management</td>\n",
       "      <td>6333 54Th Avenue North</td>\n",
       "      <td>St Petersburg</td>\n",
       "      <td>FL</td>\n",
       "      <td>USA</td>\n",
       "      <td>33709</td>\n",
       "      <td>03/05/19</td>\n",
       "      <td>FC</td>\n",
       "      <td>NAI</td>\n",
       "      <td>22</td>\n",
       "    </tr>\n",
       "  </tbody>\n",
       "</table>\n",
       "<p>4072 rows × 12 columns</p>\n",
       "</div>"
      ],
      "text/plain": [
       "      ID No.                          Name  \\\n",
       "43    449958    Wiley,   Kenneth   L    MD   \n",
       "46    539971    Benzar,   Zinoviy       MD   \n",
       "47     13321    Nathan,   Robert   A    MD   \n",
       "48    438326      Young,   James   E    MD   \n",
       "49    228659  Peterson,   Daniel   L    MD   \n",
       "...      ...                           ...   \n",
       "4243  707559   Raghavan,   Preeti       MD   \n",
       "4244  710371         Phan,   Han   C    MD   \n",
       "4245  712118               Aslam,   Zaheer   \n",
       "4246  713788   Ledo-Sanchez,   Gustavo   G   \n",
       "4247  719450       Hassan,   Kazi       MD   \n",
       "\n",
       "                                               Location  \\\n",
       "43                  New Orleans Clinl Trials Management   \n",
       "46                                    Brooklyn Med Inst   \n",
       "47                    Asthma & Allergy Associates, P.C.   \n",
       "48                      Michigan Reproductive & Ivf Ctr   \n",
       "49                       Sierra Internal Medicine Assoc   \n",
       "...                                                 ...   \n",
       "4243  Rusk Rehabilitation, New York Univ.School Of M...   \n",
       "4244                         Rare Disease Research, Llc   \n",
       "4245                 Gulfcoast Clinical Research Center   \n",
       "4246                         Best Quality Research, Inc   \n",
       "4247                    Florida Medical Pain Management   \n",
       "\n",
       "                                    Address             City State Cntry  \\\n",
       "43           2200 Veterans Mem Blvd Ste 209           Kenner    LA   USA   \n",
       "46                            2072 Bath Ave         Brooklyn    NY   USA   \n",
       "47                2709 N Tejon Std Ste. 202   Colorado Sprgs    CO   USA   \n",
       "48                     221 Michigan Ste 406     Grand Rapids    MI   USA   \n",
       "49        865 N Tahoe Blvd Ste 306 Box 7870  Incline Village    NV   USA   \n",
       "...                                     ...              ...   ...   ...   \n",
       "4243  240 East 38Th Street, Ambulatory Care         New York    NY   USA   \n",
       "4244           1891 Howell Mill Rd Nw Ste B          Atlanta    GA   USA   \n",
       "4245     6150 Diamond Centre Court Bldg 500       Fort Myers    FL   USA   \n",
       "4246        2387 West 68Th Street Suite 403          Hialeah    FL   USA   \n",
       "4247                 6333 54Th Avenue North    St Petersburg    FL   USA   \n",
       "\n",
       "        Zip Insp. Date Insp. Type insp_class   insp_codes  \n",
       "43    70062        NaN         DA        MTF          NaN  \n",
       "46    11214        NaN         DA        MTF          NaN  \n",
       "47    80907   01/01/95         DA        VAI     03,05,06  \n",
       "48    49503   01/02/01         DA        VAI  03,04,05,06  \n",
       "49    89451   01/02/13         DA        VAI           05  \n",
       "...     ...        ...        ...        ...          ...  \n",
       "4243  10016   10/11/18         FC        NAI           22  \n",
       "4244  30318   11/15/18         FC        NAI           22  \n",
       "4245  33912   12/10/18         FC        NAI           22  \n",
       "4246  33016   10/29/18         FC        NAI           22  \n",
       "4247  33709   03/05/19         FC        NAI           22  \n",
       "\n",
       "[4072 rows x 12 columns]"
      ]
     },
     "execution_count": 24,
     "metadata": {},
     "output_type": "execute_result"
    }
   ],
   "source": [
    "insp_data"
   ]
  },
  {
   "cell_type": "code",
   "execution_count": 25,
   "metadata": {
    "papermill": {
     "duration": 0.065146,
     "end_time": "2019-12-11T13:04:22.895943",
     "exception": false,
     "start_time": "2019-12-11T13:04:22.830797",
     "status": "completed"
    },
    "tags": []
   },
   "outputs": [],
   "source": [
    "# explose insp_codes column (requires pandas >0.25)\n",
    "insp_data_interim = insp_data.assign(insp_codes=df_insp.insp_codes.str.split(',')).explode('insp_codes')"
   ]
  },
  {
   "cell_type": "code",
   "execution_count": 26,
   "metadata": {
    "papermill": {
     "duration": 0.070644,
     "end_time": "2019-12-11T13:04:23.011935",
     "exception": false,
     "start_time": "2019-12-11T13:04:22.941291",
     "status": "completed"
    },
    "tags": []
   },
   "outputs": [
    {
     "data": {
      "text/html": [
       "<div>\n",
       "<style scoped>\n",
       "    .dataframe tbody tr th:only-of-type {\n",
       "        vertical-align: middle;\n",
       "    }\n",
       "\n",
       "    .dataframe tbody tr th {\n",
       "        vertical-align: top;\n",
       "    }\n",
       "\n",
       "    .dataframe thead th {\n",
       "        text-align: right;\n",
       "    }\n",
       "</style>\n",
       "<table border=\"1\" class=\"dataframe\">\n",
       "  <thead>\n",
       "    <tr style=\"text-align: right;\">\n",
       "      <th></th>\n",
       "      <th>ID No.</th>\n",
       "      <th>Name</th>\n",
       "      <th>Location</th>\n",
       "      <th>Address</th>\n",
       "      <th>City</th>\n",
       "      <th>State</th>\n",
       "      <th>Cntry</th>\n",
       "      <th>Zip</th>\n",
       "      <th>Insp. Date</th>\n",
       "      <th>Insp. Type</th>\n",
       "      <th>insp_class</th>\n",
       "      <th>insp_codes</th>\n",
       "    </tr>\n",
       "  </thead>\n",
       "  <tbody>\n",
       "    <tr>\n",
       "      <th>43</th>\n",
       "      <td>449958</td>\n",
       "      <td>Wiley,   Kenneth   L    MD</td>\n",
       "      <td>New Orleans Clinl Trials Management</td>\n",
       "      <td>2200 Veterans Mem Blvd Ste 209</td>\n",
       "      <td>Kenner</td>\n",
       "      <td>LA</td>\n",
       "      <td>USA</td>\n",
       "      <td>70062</td>\n",
       "      <td>NaN</td>\n",
       "      <td>DA</td>\n",
       "      <td>MTF</td>\n",
       "      <td>NaN</td>\n",
       "    </tr>\n",
       "    <tr>\n",
       "      <th>46</th>\n",
       "      <td>539971</td>\n",
       "      <td>Benzar,   Zinoviy       MD</td>\n",
       "      <td>Brooklyn Med Inst</td>\n",
       "      <td>2072 Bath Ave</td>\n",
       "      <td>Brooklyn</td>\n",
       "      <td>NY</td>\n",
       "      <td>USA</td>\n",
       "      <td>11214</td>\n",
       "      <td>NaN</td>\n",
       "      <td>DA</td>\n",
       "      <td>MTF</td>\n",
       "      <td>NaN</td>\n",
       "    </tr>\n",
       "    <tr>\n",
       "      <th>47</th>\n",
       "      <td>13321</td>\n",
       "      <td>Nathan,   Robert   A    MD</td>\n",
       "      <td>Asthma &amp; Allergy Associates, P.C.</td>\n",
       "      <td>2709 N Tejon Std Ste. 202</td>\n",
       "      <td>Colorado Sprgs</td>\n",
       "      <td>CO</td>\n",
       "      <td>USA</td>\n",
       "      <td>80907</td>\n",
       "      <td>01/01/95</td>\n",
       "      <td>DA</td>\n",
       "      <td>VAI</td>\n",
       "      <td>03</td>\n",
       "    </tr>\n",
       "    <tr>\n",
       "      <th>47</th>\n",
       "      <td>13321</td>\n",
       "      <td>Nathan,   Robert   A    MD</td>\n",
       "      <td>Asthma &amp; Allergy Associates, P.C.</td>\n",
       "      <td>2709 N Tejon Std Ste. 202</td>\n",
       "      <td>Colorado Sprgs</td>\n",
       "      <td>CO</td>\n",
       "      <td>USA</td>\n",
       "      <td>80907</td>\n",
       "      <td>01/01/95</td>\n",
       "      <td>DA</td>\n",
       "      <td>VAI</td>\n",
       "      <td>05</td>\n",
       "    </tr>\n",
       "    <tr>\n",
       "      <th>47</th>\n",
       "      <td>13321</td>\n",
       "      <td>Nathan,   Robert   A    MD</td>\n",
       "      <td>Asthma &amp; Allergy Associates, P.C.</td>\n",
       "      <td>2709 N Tejon Std Ste. 202</td>\n",
       "      <td>Colorado Sprgs</td>\n",
       "      <td>CO</td>\n",
       "      <td>USA</td>\n",
       "      <td>80907</td>\n",
       "      <td>01/01/95</td>\n",
       "      <td>DA</td>\n",
       "      <td>VAI</td>\n",
       "      <td>06</td>\n",
       "    </tr>\n",
       "    <tr>\n",
       "      <th>...</th>\n",
       "      <td>...</td>\n",
       "      <td>...</td>\n",
       "      <td>...</td>\n",
       "      <td>...</td>\n",
       "      <td>...</td>\n",
       "      <td>...</td>\n",
       "      <td>...</td>\n",
       "      <td>...</td>\n",
       "      <td>...</td>\n",
       "      <td>...</td>\n",
       "      <td>...</td>\n",
       "      <td>...</td>\n",
       "    </tr>\n",
       "    <tr>\n",
       "      <th>4243</th>\n",
       "      <td>707559</td>\n",
       "      <td>Raghavan,   Preeti       MD</td>\n",
       "      <td>Rusk Rehabilitation, New York Univ.School Of M...</td>\n",
       "      <td>240 East 38Th Street, Ambulatory Care</td>\n",
       "      <td>New York</td>\n",
       "      <td>NY</td>\n",
       "      <td>USA</td>\n",
       "      <td>10016</td>\n",
       "      <td>10/11/18</td>\n",
       "      <td>FC</td>\n",
       "      <td>NAI</td>\n",
       "      <td>22</td>\n",
       "    </tr>\n",
       "    <tr>\n",
       "      <th>4244</th>\n",
       "      <td>710371</td>\n",
       "      <td>Phan,   Han   C    MD</td>\n",
       "      <td>Rare Disease Research, Llc</td>\n",
       "      <td>1891 Howell Mill Rd Nw Ste B</td>\n",
       "      <td>Atlanta</td>\n",
       "      <td>GA</td>\n",
       "      <td>USA</td>\n",
       "      <td>30318</td>\n",
       "      <td>11/15/18</td>\n",
       "      <td>FC</td>\n",
       "      <td>NAI</td>\n",
       "      <td>22</td>\n",
       "    </tr>\n",
       "    <tr>\n",
       "      <th>4245</th>\n",
       "      <td>712118</td>\n",
       "      <td>Aslam,   Zaheer</td>\n",
       "      <td>Gulfcoast Clinical Research Center</td>\n",
       "      <td>6150 Diamond Centre Court Bldg 500</td>\n",
       "      <td>Fort Myers</td>\n",
       "      <td>FL</td>\n",
       "      <td>USA</td>\n",
       "      <td>33912</td>\n",
       "      <td>12/10/18</td>\n",
       "      <td>FC</td>\n",
       "      <td>NAI</td>\n",
       "      <td>22</td>\n",
       "    </tr>\n",
       "    <tr>\n",
       "      <th>4246</th>\n",
       "      <td>713788</td>\n",
       "      <td>Ledo-Sanchez,   Gustavo   G</td>\n",
       "      <td>Best Quality Research, Inc</td>\n",
       "      <td>2387 West 68Th Street Suite 403</td>\n",
       "      <td>Hialeah</td>\n",
       "      <td>FL</td>\n",
       "      <td>USA</td>\n",
       "      <td>33016</td>\n",
       "      <td>10/29/18</td>\n",
       "      <td>FC</td>\n",
       "      <td>NAI</td>\n",
       "      <td>22</td>\n",
       "    </tr>\n",
       "    <tr>\n",
       "      <th>4247</th>\n",
       "      <td>719450</td>\n",
       "      <td>Hassan,   Kazi       MD</td>\n",
       "      <td>Florida Medical Pain Management</td>\n",
       "      <td>6333 54Th Avenue North</td>\n",
       "      <td>St Petersburg</td>\n",
       "      <td>FL</td>\n",
       "      <td>USA</td>\n",
       "      <td>33709</td>\n",
       "      <td>03/05/19</td>\n",
       "      <td>FC</td>\n",
       "      <td>NAI</td>\n",
       "      <td>22</td>\n",
       "    </tr>\n",
       "  </tbody>\n",
       "</table>\n",
       "<p>7224 rows × 12 columns</p>\n",
       "</div>"
      ],
      "text/plain": [
       "      ID No.                         Name  \\\n",
       "43    449958   Wiley,   Kenneth   L    MD   \n",
       "46    539971   Benzar,   Zinoviy       MD   \n",
       "47     13321   Nathan,   Robert   A    MD   \n",
       "47     13321   Nathan,   Robert   A    MD   \n",
       "47     13321   Nathan,   Robert   A    MD   \n",
       "...      ...                          ...   \n",
       "4243  707559  Raghavan,   Preeti       MD   \n",
       "4244  710371        Phan,   Han   C    MD   \n",
       "4245  712118              Aslam,   Zaheer   \n",
       "4246  713788  Ledo-Sanchez,   Gustavo   G   \n",
       "4247  719450      Hassan,   Kazi       MD   \n",
       "\n",
       "                                               Location  \\\n",
       "43                  New Orleans Clinl Trials Management   \n",
       "46                                    Brooklyn Med Inst   \n",
       "47                    Asthma & Allergy Associates, P.C.   \n",
       "47                    Asthma & Allergy Associates, P.C.   \n",
       "47                    Asthma & Allergy Associates, P.C.   \n",
       "...                                                 ...   \n",
       "4243  Rusk Rehabilitation, New York Univ.School Of M...   \n",
       "4244                         Rare Disease Research, Llc   \n",
       "4245                 Gulfcoast Clinical Research Center   \n",
       "4246                         Best Quality Research, Inc   \n",
       "4247                    Florida Medical Pain Management   \n",
       "\n",
       "                                    Address            City State Cntry  \\\n",
       "43           2200 Veterans Mem Blvd Ste 209          Kenner    LA   USA   \n",
       "46                            2072 Bath Ave        Brooklyn    NY   USA   \n",
       "47                2709 N Tejon Std Ste. 202  Colorado Sprgs    CO   USA   \n",
       "47                2709 N Tejon Std Ste. 202  Colorado Sprgs    CO   USA   \n",
       "47                2709 N Tejon Std Ste. 202  Colorado Sprgs    CO   USA   \n",
       "...                                     ...             ...   ...   ...   \n",
       "4243  240 East 38Th Street, Ambulatory Care        New York    NY   USA   \n",
       "4244           1891 Howell Mill Rd Nw Ste B         Atlanta    GA   USA   \n",
       "4245     6150 Diamond Centre Court Bldg 500      Fort Myers    FL   USA   \n",
       "4246        2387 West 68Th Street Suite 403         Hialeah    FL   USA   \n",
       "4247                 6333 54Th Avenue North   St Petersburg    FL   USA   \n",
       "\n",
       "        Zip Insp. Date Insp. Type insp_class insp_codes  \n",
       "43    70062        NaN         DA        MTF        NaN  \n",
       "46    11214        NaN         DA        MTF        NaN  \n",
       "47    80907   01/01/95         DA        VAI         03  \n",
       "47    80907   01/01/95         DA        VAI         05  \n",
       "47    80907   01/01/95         DA        VAI         06  \n",
       "...     ...        ...        ...        ...        ...  \n",
       "4243  10016   10/11/18         FC        NAI         22  \n",
       "4244  30318   11/15/18         FC        NAI         22  \n",
       "4245  33912   12/10/18         FC        NAI         22  \n",
       "4246  33016   10/29/18         FC        NAI         22  \n",
       "4247  33709   03/05/19         FC        NAI         22  \n",
       "\n",
       "[7224 rows x 12 columns]"
      ]
     },
     "execution_count": 26,
     "metadata": {},
     "output_type": "execute_result"
    }
   ],
   "source": [
    "# check\n",
    "insp_data_interim"
   ]
  },
  {
   "cell_type": "code",
   "execution_count": 27,
   "metadata": {
    "papermill": {
     "duration": 0.055968,
     "end_time": "2019-12-11T13:04:23.109169",
     "exception": false,
     "start_time": "2019-12-11T13:04:23.053201",
     "status": "completed"
    },
    "tags": []
   },
   "outputs": [],
   "source": [
    "# convert insp_code into numeric data for the join\n",
    "insp_data_interim['insp_codes'] = pd.to_numeric(insp_data_interim['insp_codes'])"
   ]
  },
  {
   "cell_type": "code",
   "execution_count": 28,
   "metadata": {
    "papermill": {
     "duration": 0.052333,
     "end_time": "2019-12-11T13:04:23.205019",
     "exception": false,
     "start_time": "2019-12-11T13:04:23.152686",
     "status": "completed"
    },
    "tags": []
   },
   "outputs": [
    {
     "name": "stdout",
     "output_type": "stream",
     "text": [
      "[nan  3.  5.  6.  4. 22. 16.  2. 12. 18.  1.  7. 15. 14.  0.  9.  8. 10.\n",
      " 20. 19. 17. 11. 13.]\n"
     ]
    }
   ],
   "source": [
    "# Verify values in insp_codes\n",
    "print(insp_data_interim.insp_codes.unique())"
   ]
  },
  {
   "cell_type": "code",
   "execution_count": 29,
   "metadata": {
    "papermill": {
     "duration": 0.057218,
     "end_time": "2019-12-11T13:04:23.304418",
     "exception": false,
     "start_time": "2019-12-11T13:04:23.247200",
     "status": "completed"
    },
    "tags": []
   },
   "outputs": [
    {
     "name": "stdout",
     "output_type": "stream",
     "text": [
      "      ID No.                              Name  \\\n",
      "43    449958        Wiley,   Kenneth   L    MD   \n",
      "46    539971        Benzar,   Zinoviy       MD   \n",
      "54    177764          Kerr,   Robert   O    MD   \n",
      "59     82644                Schmunes,   Edward   \n",
      "62    195131          Ghali,   Jalal   K    MD   \n",
      "...      ...                               ...   \n",
      "4159  642028                Chisti,   Mohammad   \n",
      "4165  648641                   Driver,   Brian   \n",
      "4181  661444  Castellon,   Celestino   P    MD   \n",
      "4187  666448                  Racke,   Michael   \n",
      "4235  697186                Meltzer,   Herbert   \n",
      "\n",
      "                                               Location  \\\n",
      "43                  New Orleans Clinl Trials Management   \n",
      "46                                    Brooklyn Med Inst   \n",
      "54                                        Sw Reg Ca Ctr   \n",
      "59                                                    -   \n",
      "62                         Louisiana State Univ Med Ctr   \n",
      "...                                                 ...   \n",
      "4159                                                  0   \n",
      "4165                              701 Park Avenue South   \n",
      "4181                            Garden General Services   \n",
      "4187    The Ohio State University Wexner Medical Center   \n",
      "4235  Northwestern University Feinberg School Of Med...   \n",
      "\n",
      "                                    Address         City State Cntry    Zip  \\\n",
      "43           2200 Veterans Mem Blvd Ste 209       Kenner    LA   USA  70062   \n",
      "46                            2072 Bath Ave     Brooklyn    NY   USA  11214   \n",
      "54                     711 W 38Th St Ste B1       Austin    TX   USA  78705   \n",
      "59                                        -     Columbia    SC   USA  00000   \n",
      "62    1501 Kings Hwy Po Box 33932 Bldg 2428   Shreveport    LA   USA  71130   \n",
      "...                                     ...          ...   ...   ...    ...   \n",
      "4159              763 South New Ballas Road    St. Louis    MO   USA  63141   \n",
      "4165                  701 Park Avenue South  Minneapolis    MN   USA  55415   \n",
      "4181                8210-A West Flagler St.        Miami    FL   USA  33144   \n",
      "4187             395 W. 12Th Ave., 7Th Flr.     Columbus    OH   USA  43210   \n",
      "4235               303 E Chicago Ave #7-101      Chicago    IL   USA  60611   \n",
      "\n",
      "     Insp. Date Insp. Type insp_class  insp_codes  \n",
      "43          NaN         DA        MTF         NaN  \n",
      "46          NaN         DA        MTF         NaN  \n",
      "54     01/03/96         DA        NAI         NaN  \n",
      "59     01/04/79         DA        NAI         NaN  \n",
      "62     01/05/00         DA        NAI         NaN  \n",
      "...         ...        ...        ...         ...  \n",
      "4159   02/21/14         FC        VAI         NaN  \n",
      "4165   06/23/14         FC        OAI         NaN  \n",
      "4181   03/20/18         FC        VAI         NaN  \n",
      "4187   04/30/18         FC        VAI         NaN  \n",
      "4235   03/06/18         FC        NAI         NaN  \n",
      "\n",
      "[1038 rows x 12 columns]\n"
     ]
    }
   ],
   "source": [
    "# check \n",
    "print(insp_data_interim[insp_data_interim['insp_codes'].isnull()])"
   ]
  },
  {
   "cell_type": "code",
   "execution_count": 30,
   "metadata": {
    "papermill": {
     "duration": 0.068634,
     "end_time": "2019-12-11T13:04:23.414784",
     "exception": false,
     "start_time": "2019-12-11T13:04:23.346150",
     "status": "completed"
    },
    "tags": []
   },
   "outputs": [
    {
     "name": "stdout",
     "output_type": "stream",
     "text": [
      "      ID No.                          Name  \\\n",
      "238   318343    Caruso,   Walter   A    MD   \n",
      "297   426812    Duckor,   Steven   L    MD   \n",
      "311    56699   Scharf,   Martin   B    PHD   \n",
      "683   142756    Gammon,   Walter   R    MD   \n",
      "860   574154     Cannon,   Kevin   D    MD   \n",
      "...      ...                           ...   \n",
      "3870  499117  Montero,   Alberto   J    MD   \n",
      "4036  542883      Renfroe,   Ben   J    MD   \n",
      "4194  669694   Huffman,   Cynthia       MD   \n",
      "4222  683889             Lang,   Jason   E   \n",
      "4223  684207                Amin,   Faisal   \n",
      "\n",
      "                                               Location  \\\n",
      "238                                                   -   \n",
      "297                               Agmg Endoscopy Center   \n",
      "311   Ctr Res Sleep Disorders/Tristate Sleep Disorde...   \n",
      "683                                    Nc Memorial Hosp   \n",
      "860                      Pmg Research Of Wilmington Llc   \n",
      "...                                                 ...   \n",
      "3870                            Musc Hematol/Concol Div   \n",
      "4036                 Nw Fl Clinical Research Group, Llc   \n",
      "4194                                  Meridien Research   \n",
      "4222                                   Nemours Children   \n",
      "4223                       Central Valley Research, Llc   \n",
      "\n",
      "                                  Address          City State Cntry    Zip  \\\n",
      "238                     20 St Marks Place      Mt Kisco    NY   USA  10459   \n",
      "297                 1211 W. La Palma Ave.       Anaheim    CA   USA  92801   \n",
      "311                      1275 E Kemper Rd    Cincinnati    OH   USA  45246   \n",
      "683                                     -   Chapel Hill    NC   USA  27514   \n",
      "860                      1907 Tradd Court    Wilmington    NC   USA  28401   \n",
      "...                                   ...           ...   ...   ...    ...   \n",
      "3870         96 Jonathan Lucas St Csb 903    Charleston    SC   USA  29425   \n",
      "4036   400 Gulf Breeze Parkway, Suite 203  Gulf Breeze,    FL   USA  32561   \n",
      "4194  5411 Beaumont Center Blvd Suite 760         Tampa    FL   USA  33634   \n",
      "4222                   807 Children'S Way  Jacksonville    FL   USA  32207   \n",
      "4223          1541 Florida Ave, Suite 303       Modesto    CA   USA  95350   \n",
      "\n",
      "     Insp. Date Insp. Type insp_class  insp_codes  \n",
      "238    01/25/88         DA       OAIC         1.0  \n",
      "297    02/04/08         DA        NAI         0.0  \n",
      "311    02/06/01         DA       OAIW         NaN  \n",
      "683    03/30/89         DA      VAI2C         3.0  \n",
      "860    04/21/14         DA        VAI         5.0  \n",
      "...         ...        ...        ...         ...  \n",
      "3870   04/11/11         FC        VAI         6.0  \n",
      "4036   06/19/17         FC        NAI         0.0  \n",
      "4194   10/24/16         FC        NAI         0.0  \n",
      "4222   08/07/17         FC        VAI         4.0  \n",
      "4223   10/11/18         FC        NAI         0.0  \n",
      "\n",
      "[92 rows x 12 columns]\n"
     ]
    }
   ],
   "source": [
    "#find duplicates\n",
    "\n",
    "duplicateRowsDF = insp_data_interim[insp_data_interim.duplicated()]\n",
    "\n",
    "print(duplicateRowsDF)\n"
   ]
  },
  {
   "cell_type": "code",
   "execution_count": 31,
   "metadata": {
    "papermill": {
     "duration": 0.057968,
     "end_time": "2019-12-11T13:04:23.516315",
     "exception": false,
     "start_time": "2019-12-11T13:04:23.458347",
     "status": "completed"
    },
    "tags": []
   },
   "outputs": [],
   "source": [
    "# drop duplicates\n",
    "insp_data_final = insp_data_interim.drop_duplicates(keep='first')"
   ]
  },
  {
   "cell_type": "code",
   "execution_count": 32,
   "metadata": {
    "papermill": {
     "duration": 0.065861,
     "end_time": "2019-12-11T13:04:23.625913",
     "exception": false,
     "start_time": "2019-12-11T13:04:23.560052",
     "status": "completed"
    },
    "tags": []
   },
   "outputs": [
    {
     "name": "stdout",
     "output_type": "stream",
     "text": [
      "(1035, 12)\n"
     ]
    }
   ],
   "source": [
    "# confirm # of rows with NaN\n",
    "print((insp_data_final[insp_data_final['insp_codes'].isnull()]).shape)"
   ]
  },
  {
   "cell_type": "markdown",
   "metadata": {
    "papermill": {
     "duration": 0.043199,
     "end_time": "2019-12-11T13:04:23.712731",
     "exception": false,
     "start_time": "2019-12-11T13:04:23.669532",
     "status": "completed"
    },
    "tags": []
   },
   "source": [
    "## load mapping data "
   ]
  },
  {
   "cell_type": "code",
   "execution_count": 33,
   "metadata": {
    "papermill": {
     "duration": 0.059436,
     "end_time": "2019-12-11T13:04:23.813081",
     "exception": false,
     "start_time": "2019-12-11T13:04:23.753645",
     "status": "completed"
    },
    "tags": []
   },
   "outputs": [],
   "source": [
    "# load csv file - created and refined based on:\n",
    "# https://www.fda.gov/drugs/enforcement-activities-fda/clinical-investigator-inspection-list-ciil-database-codes)\n",
    "mapping = pd.read_csv (file_map, encoding = 'cp1250',low_memory=False)"
   ]
  },
  {
   "cell_type": "code",
   "execution_count": 34,
   "metadata": {
    "papermill": {
     "duration": 0.06068,
     "end_time": "2019-12-11T13:04:23.918946",
     "exception": false,
     "start_time": "2019-12-11T13:04:23.858266",
     "status": "completed"
    },
    "tags": []
   },
   "outputs": [
    {
     "data": {
      "text/html": [
       "<div>\n",
       "<style scoped>\n",
       "    .dataframe tbody tr th:only-of-type {\n",
       "        vertical-align: middle;\n",
       "    }\n",
       "\n",
       "    .dataframe tbody tr th {\n",
       "        vertical-align: top;\n",
       "    }\n",
       "\n",
       "    .dataframe thead th {\n",
       "        text-align: right;\n",
       "    }\n",
       "</style>\n",
       "<table border=\"1\" class=\"dataframe\">\n",
       "  <thead>\n",
       "    <tr style=\"text-align: right;\">\n",
       "      <th></th>\n",
       "      <th>code</th>\n",
       "      <th>deficiency</th>\n",
       "      <th>cfr_reference</th>\n",
       "      <th>mapped_clinical_impact_factor</th>\n",
       "    </tr>\n",
       "  </thead>\n",
       "  <tbody>\n",
       "    <tr>\n",
       "      <th>0</th>\n",
       "      <td>1</td>\n",
       "      <td>Records availability</td>\n",
       "      <td>21 CFR 312.62</td>\n",
       "      <td>data_integrity</td>\n",
       "    </tr>\n",
       "    <tr>\n",
       "      <th>1</th>\n",
       "      <td>2</td>\n",
       "      <td>Failure to obtain and/or document subject consent</td>\n",
       "      <td>21 CFR 312.60, 50.20, 50.27</td>\n",
       "      <td>consent</td>\n",
       "    </tr>\n",
       "    <tr>\n",
       "      <th>2</th>\n",
       "      <td>3</td>\n",
       "      <td>Inadequate informed consent form</td>\n",
       "      <td>21 CFR 50.25</td>\n",
       "      <td>consent</td>\n",
       "    </tr>\n",
       "    <tr>\n",
       "      <th>3</th>\n",
       "      <td>4</td>\n",
       "      <td>Inadequate drug accountability</td>\n",
       "      <td>21 CFR 312.60, 312.62</td>\n",
       "      <td>primary_endpoints_and_safety</td>\n",
       "    </tr>\n",
       "    <tr>\n",
       "      <th>4</th>\n",
       "      <td>5</td>\n",
       "      <td>Failure to follow investigational plan</td>\n",
       "      <td>21 CFR 312.60</td>\n",
       "      <td>primary_endpoints_and_safety</td>\n",
       "    </tr>\n",
       "    <tr>\n",
       "      <th>5</th>\n",
       "      <td>6</td>\n",
       "      <td>Inadequate and inaccurate records</td>\n",
       "      <td>21 CFR 312.62</td>\n",
       "      <td>primary_endpoints</td>\n",
       "    </tr>\n",
       "    <tr>\n",
       "      <th>6</th>\n",
       "      <td>7</td>\n",
       "      <td>Unapproved concomitant therapy</td>\n",
       "      <td>21 CFR 312.60</td>\n",
       "      <td>primary_endpoints_and_safety</td>\n",
       "    </tr>\n",
       "    <tr>\n",
       "      <th>7</th>\n",
       "      <td>8</td>\n",
       "      <td>Inappropriate payment to volunteers</td>\n",
       "      <td>21 CFR 50.20</td>\n",
       "      <td>consent</td>\n",
       "    </tr>\n",
       "    <tr>\n",
       "      <th>8</th>\n",
       "      <td>9</td>\n",
       "      <td>Unapproved use of drug before IND submission</td>\n",
       "      <td>21 CFR 312.40(d)</td>\n",
       "      <td>safety</td>\n",
       "    </tr>\n",
       "    <tr>\n",
       "      <th>9</th>\n",
       "      <td>10</td>\n",
       "      <td>Inappropriate delegation of authority</td>\n",
       "      <td>21 CFR 312.7, 312.61</td>\n",
       "      <td>primary_endpoints_and_safety</td>\n",
       "    </tr>\n",
       "    <tr>\n",
       "      <th>10</th>\n",
       "      <td>11</td>\n",
       "      <td>Inappropriate use/commercialization of IND</td>\n",
       "      <td>21 CFR 312.7, 312.61</td>\n",
       "      <td>primary_endpoints_and_safety</td>\n",
       "    </tr>\n",
       "    <tr>\n",
       "      <th>11</th>\n",
       "      <td>12</td>\n",
       "      <td>Failure to list additional investigators on 1572</td>\n",
       "      <td>21 CFR 312.60</td>\n",
       "      <td>primary_endpoints</td>\n",
       "    </tr>\n",
       "    <tr>\n",
       "      <th>12</th>\n",
       "      <td>13</td>\n",
       "      <td>Subjects receiving simultaneous investigationa...</td>\n",
       "      <td>21 CFR 312.60</td>\n",
       "      <td>primary_endpoints_and_safety</td>\n",
       "    </tr>\n",
       "    <tr>\n",
       "      <th>13</th>\n",
       "      <td>14</td>\n",
       "      <td>Failure to obtain or document IRB approval</td>\n",
       "      <td>21 CFR 312.60, 62, 66; 56.103</td>\n",
       "      <td>consent</td>\n",
       "    </tr>\n",
       "    <tr>\n",
       "      <th>14</th>\n",
       "      <td>15</td>\n",
       "      <td>Failure to notify IRB of changes, failure to s...</td>\n",
       "      <td>21 CFR 312.66</td>\n",
       "      <td>consent</td>\n",
       "    </tr>\n",
       "    <tr>\n",
       "      <th>15</th>\n",
       "      <td>16</td>\n",
       "      <td>Failure to report adverse drug reactions</td>\n",
       "      <td>21 CFR 312.64, 312.66</td>\n",
       "      <td>safety</td>\n",
       "    </tr>\n",
       "    <tr>\n",
       "      <th>16</th>\n",
       "      <td>17</td>\n",
       "      <td>Submission of false information</td>\n",
       "      <td>21 CFR 312.70</td>\n",
       "      <td>primary_endpoints_and_safety</td>\n",
       "    </tr>\n",
       "    <tr>\n",
       "      <th>17</th>\n",
       "      <td>18</td>\n",
       "      <td>Other</td>\n",
       "      <td>NaN</td>\n",
       "      <td>other</td>\n",
       "    </tr>\n",
       "    <tr>\n",
       "      <th>18</th>\n",
       "      <td>19</td>\n",
       "      <td>Failure to supervise or personally conduct the...</td>\n",
       "      <td>21 CFR 312.60</td>\n",
       "      <td>primary_endpoints_and_safety</td>\n",
       "    </tr>\n",
       "    <tr>\n",
       "      <th>19</th>\n",
       "      <td>20</td>\n",
       "      <td>Failure to protect the rights, safety, and wel...</td>\n",
       "      <td>21 CFR 312.60</td>\n",
       "      <td>human_subject_protection</td>\n",
       "    </tr>\n",
       "    <tr>\n",
       "      <th>20</th>\n",
       "      <td>21</td>\n",
       "      <td>Failure to permit FDA access to records</td>\n",
       "      <td>21 CFR 312.68</td>\n",
       "      <td>human_subject_protection</td>\n",
       "    </tr>\n",
       "    <tr>\n",
       "      <th>21</th>\n",
       "      <td>22</td>\n",
       "      <td>No deficiencies noted</td>\n",
       "      <td>NaN</td>\n",
       "      <td>no_finding</td>\n",
       "    </tr>\n",
       "    <tr>\n",
       "      <th>22</th>\n",
       "      <td>23</td>\n",
       "      <td>No data reported</td>\n",
       "      <td>NaN</td>\n",
       "      <td>no_data</td>\n",
       "    </tr>\n",
       "  </tbody>\n",
       "</table>\n",
       "</div>"
      ],
      "text/plain": [
       "    code                                         deficiency  \\\n",
       "0      1                               Records availability   \n",
       "1      2  Failure to obtain and/or document subject consent   \n",
       "2      3                   Inadequate informed consent form   \n",
       "3      4                     Inadequate drug accountability   \n",
       "4      5             Failure to follow investigational plan   \n",
       "5      6                  Inadequate and inaccurate records   \n",
       "6      7                     Unapproved concomitant therapy   \n",
       "7      8                Inappropriate payment to volunteers   \n",
       "8      9       Unapproved use of drug before IND submission   \n",
       "9     10              Inappropriate delegation of authority   \n",
       "10    11         Inappropriate use/commercialization of IND   \n",
       "11    12   Failure to list additional investigators on 1572   \n",
       "12    13  Subjects receiving simultaneous investigationa...   \n",
       "13    14         Failure to obtain or document IRB approval   \n",
       "14    15  Failure to notify IRB of changes, failure to s...   \n",
       "15    16           Failure to report adverse drug reactions   \n",
       "16    17                    Submission of false information   \n",
       "17    18                                              Other   \n",
       "18    19  Failure to supervise or personally conduct the...   \n",
       "19    20  Failure to protect the rights, safety, and wel...   \n",
       "20    21            Failure to permit FDA access to records   \n",
       "21    22                              No deficiencies noted   \n",
       "22    23                                   No data reported   \n",
       "\n",
       "                    cfr_reference mapped_clinical_impact_factor  \n",
       "0                   21 CFR 312.62                data_integrity  \n",
       "1     21 CFR 312.60, 50.20, 50.27                       consent  \n",
       "2                    21 CFR 50.25                       consent  \n",
       "3           21 CFR 312.60, 312.62  primary_endpoints_and_safety  \n",
       "4                   21 CFR 312.60  primary_endpoints_and_safety  \n",
       "5                   21 CFR 312.62             primary_endpoints  \n",
       "6                   21 CFR 312.60  primary_endpoints_and_safety  \n",
       "7                    21 CFR 50.20                       consent  \n",
       "8                21 CFR 312.40(d)                        safety  \n",
       "9            21 CFR 312.7, 312.61  primary_endpoints_and_safety  \n",
       "10           21 CFR 312.7, 312.61  primary_endpoints_and_safety  \n",
       "11                  21 CFR 312.60             primary_endpoints  \n",
       "12                  21 CFR 312.60  primary_endpoints_and_safety  \n",
       "13  21 CFR 312.60, 62, 66; 56.103                       consent  \n",
       "14                  21 CFR 312.66                       consent  \n",
       "15          21 CFR 312.64, 312.66                        safety  \n",
       "16                  21 CFR 312.70  primary_endpoints_and_safety  \n",
       "17                            NaN                         other  \n",
       "18                  21 CFR 312.60  primary_endpoints_and_safety  \n",
       "19                  21 CFR 312.60      human_subject_protection  \n",
       "20                  21 CFR 312.68      human_subject_protection  \n",
       "21                            NaN                    no_finding  \n",
       "22                            NaN                       no_data  "
      ]
     },
     "execution_count": 34,
     "metadata": {},
     "output_type": "execute_result"
    }
   ],
   "source": [
    "# check\n",
    "mapping"
   ]
  },
  {
   "cell_type": "code",
   "execution_count": 35,
   "metadata": {
    "papermill": {
     "duration": 0.054638,
     "end_time": "2019-12-11T13:04:24.017720",
     "exception": false,
     "start_time": "2019-12-11T13:04:23.963082",
     "status": "completed"
    },
    "tags": []
   },
   "outputs": [],
   "source": [
    "# rename column to insp_codes to allow mapping with FDA dataset\n",
    "mapping.rename(columns={'code':'insp_codes'}, inplace=True)"
   ]
  },
  {
   "cell_type": "code",
   "execution_count": 36,
   "metadata": {
    "papermill": {
     "duration": 0.054356,
     "end_time": "2019-12-11T13:04:24.116863",
     "exception": false,
     "start_time": "2019-12-11T13:04:24.062507",
     "status": "completed"
    },
    "tags": []
   },
   "outputs": [],
   "source": [
    "# insp_codes to numeric value\n",
    "mapping['insp_codes'] = pd.to_numeric(mapping['insp_codes'])"
   ]
  },
  {
   "cell_type": "markdown",
   "metadata": {
    "papermill": {
     "duration": 0.047761,
     "end_time": "2019-12-11T13:04:24.208968",
     "exception": false,
     "start_time": "2019-12-11T13:04:24.161207",
     "status": "completed"
    },
    "tags": []
   },
   "source": [
    "## join and clean consolidated data set ('fda_inspections')"
   ]
  },
  {
   "cell_type": "code",
   "execution_count": 37,
   "metadata": {
    "papermill": {
     "duration": 0.056862,
     "end_time": "2019-12-11T13:04:24.310953",
     "exception": false,
     "start_time": "2019-12-11T13:04:24.254091",
     "status": "completed"
    },
    "tags": []
   },
   "outputs": [],
   "source": [
    "# do the join\n",
    "finalset = pd.merge (insp_data_final,mapping, on='insp_codes', how='left')"
   ]
  },
  {
   "cell_type": "code",
   "execution_count": 38,
   "metadata": {
    "papermill": {
     "duration": 0.067982,
     "end_time": "2019-12-11T13:04:24.424602",
     "exception": false,
     "start_time": "2019-12-11T13:04:24.356620",
     "status": "completed"
    },
    "tags": []
   },
   "outputs": [
    {
     "name": "stdout",
     "output_type": "stream",
     "text": [
      "(7132, 15)\n",
      "<class 'pandas.core.frame.DataFrame'>\n",
      "Int64Index: 7132 entries, 0 to 7131\n",
      "Data columns (total 15 columns):\n",
      "ID No.                           7132 non-null int64\n",
      "Name                             7132 non-null object\n",
      "Location                         7122 non-null object\n",
      "Address                          7132 non-null object\n",
      "City                             7132 non-null object\n",
      "State                            7132 non-null object\n",
      "Cntry                            7132 non-null object\n",
      "Zip                              7132 non-null object\n",
      "Insp. Date                       7113 non-null object\n",
      "Insp. Type                       7132 non-null object\n",
      "insp_class                       7132 non-null object\n",
      "insp_codes                       6097 non-null float64\n",
      "deficiency                       6075 non-null object\n",
      "cfr_reference                    5097 non-null object\n",
      "mapped_clinical_impact_factor    6075 non-null object\n",
      "dtypes: float64(1), int64(1), object(13)\n",
      "memory usage: 891.5+ KB\n"
     ]
    }
   ],
   "source": [
    "# check\n",
    "print(finalset.shape)\n",
    "finalset.info()"
   ]
  },
  {
   "cell_type": "markdown",
   "metadata": {
    "papermill": {
     "duration": 0.04386,
     "end_time": "2019-12-11T13:04:24.513593",
     "exception": false,
     "start_time": "2019-12-11T13:04:24.469733",
     "status": "completed"
    },
    "tags": []
   },
   "source": [
    "## final cleaning"
   ]
  },
  {
   "cell_type": "code",
   "execution_count": 39,
   "metadata": {
    "papermill": {
     "duration": 0.05655,
     "end_time": "2019-12-11T13:04:24.615342",
     "exception": false,
     "start_time": "2019-12-11T13:04:24.558792",
     "status": "completed"
    },
    "tags": []
   },
   "outputs": [
    {
     "name": "stdout",
     "output_type": "stream",
     "text": [
      "[nan  3.  5.  6.  4. 22. 16.  2. 12. 18.  1.  7. 15. 14.  0.  9.  8. 10.\n",
      " 20. 19. 17. 11. 13.]\n"
     ]
    }
   ],
   "source": [
    "print(finalset.insp_codes.unique())"
   ]
  },
  {
   "cell_type": "code",
   "execution_count": 40,
   "metadata": {
    "papermill": {
     "duration": 0.067468,
     "end_time": "2019-12-11T13:04:24.727915",
     "exception": false,
     "start_time": "2019-12-11T13:04:24.660447",
     "status": "completed"
    },
    "tags": []
   },
   "outputs": [
    {
     "name": "stdout",
     "output_type": "stream",
     "text": [
      "      ID No.                              Name  \\\n",
      "0     449958        Wiley,   Kenneth   L    MD   \n",
      "1     539971        Benzar,   Zinoviy       MD   \n",
      "15    177764          Kerr,   Robert   O    MD   \n",
      "23     82644                Schmunes,   Edward   \n",
      "27    195131          Ghali,   Jalal   K    MD   \n",
      "...      ...                               ...   \n",
      "7020  642028                Chisti,   Mohammad   \n",
      "7027  648641                   Driver,   Brian   \n",
      "7047  661444  Castellon,   Celestino   P    MD   \n",
      "7054  666448                  Racke,   Michael   \n",
      "7116  697186                Meltzer,   Herbert   \n",
      "\n",
      "                                               Location  \\\n",
      "0                   New Orleans Clinl Trials Management   \n",
      "1                                     Brooklyn Med Inst   \n",
      "15                                        Sw Reg Ca Ctr   \n",
      "23                                                    -   \n",
      "27                         Louisiana State Univ Med Ctr   \n",
      "...                                                 ...   \n",
      "7020                                                  0   \n",
      "7027                              701 Park Avenue South   \n",
      "7047                            Garden General Services   \n",
      "7054    The Ohio State University Wexner Medical Center   \n",
      "7116  Northwestern University Feinberg School Of Med...   \n",
      "\n",
      "                                    Address         City State Cntry    Zip  \\\n",
      "0            2200 Veterans Mem Blvd Ste 209       Kenner    LA   USA  70062   \n",
      "1                             2072 Bath Ave     Brooklyn    NY   USA  11214   \n",
      "15                     711 W 38Th St Ste B1       Austin    TX   USA  78705   \n",
      "23                                        -     Columbia    SC   USA  00000   \n",
      "27    1501 Kings Hwy Po Box 33932 Bldg 2428   Shreveport    LA   USA  71130   \n",
      "...                                     ...          ...   ...   ...    ...   \n",
      "7020              763 South New Ballas Road    St. Louis    MO   USA  63141   \n",
      "7027                  701 Park Avenue South  Minneapolis    MN   USA  55415   \n",
      "7047                8210-A West Flagler St.        Miami    FL   USA  33144   \n",
      "7054             395 W. 12Th Ave., 7Th Flr.     Columbus    OH   USA  43210   \n",
      "7116               303 E Chicago Ave #7-101      Chicago    IL   USA  60611   \n",
      "\n",
      "     Insp. Date Insp. Type insp_class  insp_codes deficiency cfr_reference  \\\n",
      "0           NaN         DA        MTF         NaN        NaN           NaN   \n",
      "1           NaN         DA        MTF         NaN        NaN           NaN   \n",
      "15     01/03/96         DA        NAI         NaN        NaN           NaN   \n",
      "23     01/04/79         DA        NAI         NaN        NaN           NaN   \n",
      "27     01/05/00         DA        NAI         NaN        NaN           NaN   \n",
      "...         ...        ...        ...         ...        ...           ...   \n",
      "7020   02/21/14         FC        VAI         NaN        NaN           NaN   \n",
      "7027   06/23/14         FC        OAI         NaN        NaN           NaN   \n",
      "7047   03/20/18         FC        VAI         NaN        NaN           NaN   \n",
      "7054   04/30/18         FC        VAI         NaN        NaN           NaN   \n",
      "7116   03/06/18         FC        NAI         NaN        NaN           NaN   \n",
      "\n",
      "     mapped_clinical_impact_factor  \n",
      "0                              NaN  \n",
      "1                              NaN  \n",
      "15                             NaN  \n",
      "23                             NaN  \n",
      "27                             NaN  \n",
      "...                            ...  \n",
      "7020                           NaN  \n",
      "7027                           NaN  \n",
      "7047                           NaN  \n",
      "7054                           NaN  \n",
      "7116                           NaN  \n",
      "\n",
      "[1035 rows x 15 columns]\n"
     ]
    }
   ],
   "source": [
    "print(finalset[finalset['insp_codes'].isnull()])"
   ]
  },
  {
   "cell_type": "code",
   "execution_count": 41,
   "metadata": {
    "papermill": {
     "duration": 0.055213,
     "end_time": "2019-12-11T13:04:24.831446",
     "exception": false,
     "start_time": "2019-12-11T13:04:24.776233",
     "status": "completed"
    },
    "tags": []
   },
   "outputs": [],
   "source": [
    "# Add insp_code '23' --> \"no data reported\"\n",
    "\n",
    "finalset['insp_codes'].fillna(23, inplace=True)"
   ]
  },
  {
   "cell_type": "code",
   "execution_count": 42,
   "metadata": {
    "papermill": {
     "duration": 0.056254,
     "end_time": "2019-12-11T13:04:24.932057",
     "exception": false,
     "start_time": "2019-12-11T13:04:24.875803",
     "status": "completed"
    },
    "tags": []
   },
   "outputs": [
    {
     "name": "stdout",
     "output_type": "stream",
     "text": [
      "(0, 15)"
     ]
    },
    {
     "name": "stdout",
     "output_type": "stream",
     "text": [
      "\n"
     ]
    }
   ],
   "source": [
    "# confirm no NaN\n",
    "print((finalset[finalset['insp_codes'].isnull()]).shape)"
   ]
  },
  {
   "cell_type": "code",
   "execution_count": 43,
   "metadata": {
    "papermill": {
     "duration": 0.29444,
     "end_time": "2019-12-11T13:04:25.271381",
     "exception": false,
     "start_time": "2019-12-11T13:04:24.976941",
     "status": "completed"
    },
    "tags": []
   },
   "outputs": [],
   "source": [
    "# Export to csv the final set\n",
    "finalset.to_csv(file_out)"
   ]
  }
 ],
 "metadata": {
  "celltoolbar": "Tags",
  "kernelspec": {
   "display_name": "Python 3",
   "language": "python",
   "name": "python3"
  },
  "language_info": {
   "codemirror_mode": {
    "name": "ipython",
    "version": 3
   },
   "file_extension": ".py",
   "mimetype": "text/x-python",
   "name": "python",
   "nbconvert_exporter": "python",
   "pygments_lexer": "ipython3",
   "version": "3.7.3"
  },
  "papermill": {
   "duration": 6.832404,
   "end_time": "2019-12-11T13:04:25.629015",
   "environment_variables": {},
   "exception": null,
   "input_path": "notebooks/inspection_fda_data_cleaning_mapping.ipynb",
   "output_path": "notebooks/inspection_fda_data_cleaning_mapping.ipynb",
   "parameters": {
    "file": "data/input/raw_clinical_investigator_inspection_fc.xls",
    "file2": "data/input/raw_clinical_investigator_inspection_da.xls",
    "file_map": "data/input/refined_mapping_fda_inspections_code.csv",
    "file_out": "data/output/final_set_FDA.csv"
   },
   "start_time": "2019-12-11T13:04:18.796611",
   "version": "1.2.1"
  },
  "toc": {
   "nav_menu": {},
   "number_sections": true,
   "sideBar": true,
   "skip_h1_title": false,
   "title_cell": "Table of Contents",
   "title_sidebar": "Contents",
   "toc_cell": false,
   "toc_position": {},
   "toc_section_display": true,
   "toc_window_display": false
  }
 },
 "nbformat": 4,
 "nbformat_minor": 2
}