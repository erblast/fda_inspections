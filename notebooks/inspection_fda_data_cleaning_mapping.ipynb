{
 "cells": [
  {
   "cell_type": "code",
   "execution_count": 1,
   "metadata": {
    "hide_input": true,
    "inputHidden": true,
    "papermill": {
     "duration": 0.061318,
     "end_time": "2019-12-11T15:11:10.195452",
     "exception": false,
     "start_time": "2019-12-11T15:11:10.134134",
     "status": "completed"
    },
    "tags": []
   },
   "outputs": [
    {
     "data": {
      "text/html": [
       "<span style=\"color:red; font-family:Helvetica Neue, Helvetica, Arial, sans-serif; font-size:2em;\">An Exception was encountered at 'In [5]'.</span>\n"
      ],
      "text/plain": [
       "<IPython.core.display.HTML object>"
      ]
     },
     "metadata": {},
     "output_type": "display_data"
    }
   ],
   "source": [
    "%%html\n",
    "<span style=\"color:red; font-family:Helvetica Neue, Helvetica, Arial, sans-serif; font-size:2em;\">An Exception was encountered at 'In [5]'.</span>"
   ]
  },
  {
   "cell_type": "code",
   "execution_count": 2,
   "metadata": {
    "hide_input": true,
    "inputHidden": true,
    "papermill": {
     "duration": 0.047584,
     "end_time": "2019-12-11T15:11:10.278514",
     "exception": false,
     "start_time": "2019-12-11T15:11:10.230930",
     "status": "completed"
    },
    "tags": []
   },
   "outputs": [
    {
     "data": {
      "text/html": [
       "<span style=\"color:red; font-family:Helvetica Neue, Helvetica, Arial, sans-serif; font-size:2em;\">An Exception was encountered at 'In [3]'.</span>\n"
      ],
      "text/plain": [
       "<IPython.core.display.HTML object>"
      ]
     },
     "metadata": {},
     "output_type": "display_data"
    }
   ],
   "source": [
    "%%html\n",
    "<span style=\"color:red; font-family:Helvetica Neue, Helvetica, Arial, sans-serif; font-size:2em;\">An Exception was encountered at 'In [3]'.</span>"
   ]
  },
  {
   "cell_type": "markdown",
   "metadata": {
    "papermill": {
     "duration": 0.037912,
     "end_time": "2019-12-11T15:11:10.358911",
     "exception": false,
     "start_time": "2019-12-11T15:11:10.320999",
     "status": "completed"
    },
    "tags": []
   },
   "source": [
    "## FDA inspection data analytics - build the dataset"
   ]
  },
  {
   "cell_type": "markdown",
   "metadata": {
    "papermill": {
     "duration": 0.039603,
     "end_time": "2019-12-11T15:11:10.436962",
     "exception": false,
     "start_time": "2019-12-11T15:11:10.397359",
     "status": "completed"
    },
    "tags": []
   },
   "source": [
    "## load libraries"
   ]
  },
  {
   "cell_type": "code",
   "execution_count": 3,
   "metadata": {
    "papermill": {
     "duration": 0.043866,
     "end_time": "2019-12-11T15:11:10.516569",
     "exception": false,
     "start_time": "2019-12-11T15:11:10.472703",
     "status": "completed"
    },
    "tags": [
     "parameters"
    ]
   },
   "outputs": [],
   "source": [
    "file = '../data/input/raw_clinical_investigator_inspection_fc.xls'\n",
    "file2 = '../data/input/raw_clinical_investigator_inspection_da.xls'\n",
    "file_map = '../data/input/refined_mapping_fda_inspections_code.csv'\n",
    "file_out = '../data/output/final_set_FDA.csv'"
   ]
  },
  {
   "cell_type": "code",
   "execution_count": 4,
   "metadata": {
    "papermill": {
     "duration": 0.045965,
     "end_time": "2019-12-11T15:11:10.600445",
     "exception": false,
     "start_time": "2019-12-11T15:11:10.554480",
     "status": "completed"
    },
    "tags": [
     "injected-parameters"
    ]
   },
   "outputs": [],
   "source": [
    "# Parameters\n",
    "file = \"data/input/raw_clinical_investigator_inspection_fc.xls\"\n",
    "file2 = \"data/input/raw_clinical_investigator_inspection_da.xls\"\n",
    "file_map = \"data/input/refined_mapping_fda_inspections_code.csv\"\n",
    "file_out = \"data/output/final_set_FDA.csv\"\n"
   ]
  },
  {
   "cell_type": "code",
   "execution_count": 5,
   "metadata": {
    "papermill": {
     "duration": 0.396378,
     "end_time": "2019-12-11T15:11:11.036680",
     "exception": false,
     "start_time": "2019-12-11T15:11:10.640302",
     "status": "completed"
    },
    "tags": []
   },
   "outputs": [],
   "source": [
    "import numpy as np\n",
    "import os as os\n",
    "import pandas as pd\n",
    "import xlrd \n"
   ]
  },
  {
   "cell_type": "markdown",
   "metadata": {
    "papermill": {
     "duration": 0.048996,
     "end_time": "2019-12-11T15:11:11.126033",
     "exception": false,
     "start_time": "2019-12-11T15:11:11.077037",
     "status": "completed"
    },
    "tags": []
   },
   "source": [
    "## load and clean fda inspections data"
   ]
  },
  {
   "cell_type": "code",
   "execution_count": 6,
   "metadata": {
    "papermill": {
     "duration": 0.36318,
     "end_time": "2019-12-11T15:11:11.526757",
     "exception": false,
     "start_time": "2019-12-11T15:11:11.163577",
     "status": "completed"
    },
    "tags": []
   },
   "outputs": [],
   "source": [
    "xl = pd.ExcelFile(file)\n",
    "\n",
    "df_fc = xl.parse('Sheet1')\n",
    "\n",
    "\n",
    "xl = pd.ExcelFile(file2)\n",
    "\n",
    "df_da = xl.parse('Sheet1')"
   ]
  },
  {
   "cell_type": "code",
   "execution_count": 7,
   "metadata": {
    "papermill": {
     "duration": 0.046068,
     "end_time": "2019-12-11T15:11:11.616550",
     "exception": false,
     "start_time": "2019-12-11T15:11:11.570482",
     "status": "completed"
    },
    "tags": []
   },
   "outputs": [
    {
     "name": "stdout",
     "output_type": "stream",
     "text": [
      "(2500, 12)\n",
      "(1774, 12)\n"
     ]
    }
   ],
   "source": [
    "print(df_da.shape)\n",
    "print (df_fc.shape)"
   ]
  },
  {
   "cell_type": "code",
   "execution_count": 8,
   "metadata": {
    "papermill": {
     "duration": 0.047315,
     "end_time": "2019-12-11T15:11:11.697975",
     "exception": false,
     "start_time": "2019-12-11T15:11:11.650660",
     "status": "completed"
    },
    "tags": []
   },
   "outputs": [],
   "source": [
    "# append the two df\n",
    "df_insp = df_da.append(df_fc, ignore_index = True)"
   ]
  },
  {
   "cell_type": "code",
   "execution_count": 9,
   "metadata": {
    "papermill": {
     "duration": 0.047079,
     "end_time": "2019-12-11T15:11:11.783978",
     "exception": false,
     "start_time": "2019-12-11T15:11:11.736899",
     "status": "completed"
    },
    "tags": []
   },
   "outputs": [
    {
     "name": "stdout",
     "output_type": "stream",
     "text": [
      "(4274, 12)\n"
     ]
    }
   ],
   "source": [
    "print(df_insp.shape)"
   ]
  },
  {
   "cell_type": "code",
   "execution_count": 10,
   "metadata": {
    "papermill": {
     "duration": 0.064561,
     "end_time": "2019-12-11T15:11:11.888509",
     "exception": false,
     "start_time": "2019-12-11T15:11:11.823948",
     "status": "completed"
    },
    "tags": []
   },
   "outputs": [
    {
     "data": {
      "text/html": [
       "<div>\n",
       "<style scoped>\n",
       "    .dataframe tbody tr th:only-of-type {\n",
       "        vertical-align: middle;\n",
       "    }\n",
       "\n",
       "    .dataframe tbody tr th {\n",
       "        vertical-align: top;\n",
       "    }\n",
       "\n",
       "    .dataframe thead th {\n",
       "        text-align: right;\n",
       "    }\n",
       "</style>\n",
       "<table border=\"1\" class=\"dataframe\">\n",
       "  <thead>\n",
       "    <tr style=\"text-align: right;\">\n",
       "      <th></th>\n",
       "      <th>ID No.</th>\n",
       "      <th>Name</th>\n",
       "      <th>Location</th>\n",
       "      <th>Address</th>\n",
       "      <th>City</th>\n",
       "      <th>State</th>\n",
       "      <th>Cntry</th>\n",
       "      <th>Zip</th>\n",
       "      <th>Insp. Date</th>\n",
       "      <th>Insp. Type</th>\n",
       "      <th>Insp. Class.</th>\n",
       "      <th>Insp. Def. Codes</th>\n",
       "    </tr>\n",
       "  </thead>\n",
       "  <tbody>\n",
       "    <tr>\n",
       "      <th>0</th>\n",
       "      <td>44</td>\n",
       "      <td>Chey,   William   Y    MD</td>\n",
       "      <td>Univ Rochester</td>\n",
       "      <td>601 Elmwood Ave Box 646</td>\n",
       "      <td>Rochester</td>\n",
       "      <td>NY</td>\n",
       "      <td>USA</td>\n",
       "      <td>14642</td>\n",
       "      <td>08/18/00</td>\n",
       "      <td>DA</td>\n",
       "      <td>VAI</td>\n",
       "      <td>05</td>\n",
       "    </tr>\n",
       "    <tr>\n",
       "      <th>1</th>\n",
       "      <td>44</td>\n",
       "      <td>Chey,   William   Y    MD</td>\n",
       "      <td>Univ Rochester</td>\n",
       "      <td>601 Elmwood Ave Box 646</td>\n",
       "      <td>Rochester</td>\n",
       "      <td>NY</td>\n",
       "      <td>USA</td>\n",
       "      <td>14642</td>\n",
       "      <td>09/03/86</td>\n",
       "      <td>DA</td>\n",
       "      <td>VAI2</td>\n",
       "      <td>03</td>\n",
       "    </tr>\n",
       "    <tr>\n",
       "      <th>2</th>\n",
       "      <td>66</td>\n",
       "      <td>Davidov,   Michael   E    MD</td>\n",
       "      <td>-</td>\n",
       "      <td>311 Park Ave</td>\n",
       "      <td>Falls Church</td>\n",
       "      <td>VA</td>\n",
       "      <td>USA</td>\n",
       "      <td>22046</td>\n",
       "      <td>01/13/93</td>\n",
       "      <td>DA</td>\n",
       "      <td>NAI</td>\n",
       "      <td>00</td>\n",
       "    </tr>\n",
       "    <tr>\n",
       "      <th>3</th>\n",
       "      <td>99</td>\n",
       "      <td>Ciancio,   Sebastian   G    DDS</td>\n",
       "      <td>State Univ @ New York Of Buffalo</td>\n",
       "      <td>3435 Main St/250 Squire Hall</td>\n",
       "      <td>Buffalo</td>\n",
       "      <td>NY</td>\n",
       "      <td>USA</td>\n",
       "      <td>14214</td>\n",
       "      <td>12/07/15</td>\n",
       "      <td>DA</td>\n",
       "      <td>NAI</td>\n",
       "      <td>00</td>\n",
       "    </tr>\n",
       "    <tr>\n",
       "      <th>4</th>\n",
       "      <td>99</td>\n",
       "      <td>Ciancio,   Sebastian   G    DDS</td>\n",
       "      <td>State Univ @ New York Of Buffalo</td>\n",
       "      <td>3435 Main St/250 Squire Hall</td>\n",
       "      <td>Buffalo</td>\n",
       "      <td>NY</td>\n",
       "      <td>USA</td>\n",
       "      <td>14214</td>\n",
       "      <td>02/03/97</td>\n",
       "      <td>DA</td>\n",
       "      <td>VAI</td>\n",
       "      <td>03</td>\n",
       "    </tr>\n",
       "    <tr>\n",
       "      <th>...</th>\n",
       "      <td>...</td>\n",
       "      <td>...</td>\n",
       "      <td>...</td>\n",
       "      <td>...</td>\n",
       "      <td>...</td>\n",
       "      <td>...</td>\n",
       "      <td>...</td>\n",
       "      <td>...</td>\n",
       "      <td>...</td>\n",
       "      <td>...</td>\n",
       "      <td>...</td>\n",
       "      <td>...</td>\n",
       "    </tr>\n",
       "    <tr>\n",
       "      <th>4269</th>\n",
       "      <td>719450</td>\n",
       "      <td>Hassan,   Kazi       MD</td>\n",
       "      <td>Florida Medical Pain Management</td>\n",
       "      <td>6333 54Th Avenue North</td>\n",
       "      <td>St Petersburg</td>\n",
       "      <td>FL</td>\n",
       "      <td>USA</td>\n",
       "      <td>33709</td>\n",
       "      <td>03/05/19</td>\n",
       "      <td>FC</td>\n",
       "      <td>NAI</td>\n",
       "      <td>00</td>\n",
       "    </tr>\n",
       "    <tr>\n",
       "      <th>4270</th>\n",
       "      <td>719923</td>\n",
       "      <td>Yi,   Sung   H    MD</td>\n",
       "      <td>Advanced Research Center Inc</td>\n",
       "      <td>1020 S Anaheim Blvd, Suite 316</td>\n",
       "      <td>Anaheim</td>\n",
       "      <td>CA</td>\n",
       "      <td>USA</td>\n",
       "      <td>92805</td>\n",
       "      <td>06/18/19</td>\n",
       "      <td>FC</td>\n",
       "      <td>NAI</td>\n",
       "      <td>00</td>\n",
       "    </tr>\n",
       "    <tr>\n",
       "      <th>4271</th>\n",
       "      <td>720510</td>\n",
       "      <td>Huang,   May</td>\n",
       "      <td>NaN</td>\n",
       "      <td>1221 Madison Street Suite 1410</td>\n",
       "      <td>Seattle</td>\n",
       "      <td>WA</td>\n",
       "      <td>USA</td>\n",
       "      <td>98104</td>\n",
       "      <td>11/15/18</td>\n",
       "      <td>FC</td>\n",
       "      <td>VAI</td>\n",
       "      <td>05</td>\n",
       "    </tr>\n",
       "    <tr>\n",
       "      <th>4272</th>\n",
       "      <td>721608</td>\n",
       "      <td>Cho,   Austina   B    MD</td>\n",
       "      <td>Advanced Reserch Center Inc</td>\n",
       "      <td>1020 S Anaheim Blvd, Suite 316</td>\n",
       "      <td>Anaheim</td>\n",
       "      <td>CA</td>\n",
       "      <td>USA</td>\n",
       "      <td>92805</td>\n",
       "      <td>06/18/19</td>\n",
       "      <td>FC</td>\n",
       "      <td>NAI</td>\n",
       "      <td>00</td>\n",
       "    </tr>\n",
       "    <tr>\n",
       "      <th>4273</th>\n",
       "      <td>722902</td>\n",
       "      <td>Rubin,   Jay   J    MD</td>\n",
       "      <td>Bioclinica Research</td>\n",
       "      <td>3201 Wedgewood Lane</td>\n",
       "      <td>The Villages</td>\n",
       "      <td>FL</td>\n",
       "      <td>USA</td>\n",
       "      <td>32162</td>\n",
       "      <td>01/07/19</td>\n",
       "      <td>FC</td>\n",
       "      <td>VAI</td>\n",
       "      <td>04</td>\n",
       "    </tr>\n",
       "  </tbody>\n",
       "</table>\n",
       "<p>4274 rows × 12 columns</p>\n",
       "</div>"
      ],
      "text/plain": [
       "      ID No.                             Name  \\\n",
       "0         44        Chey,   William   Y    MD   \n",
       "1         44        Chey,   William   Y    MD   \n",
       "2         66     Davidov,   Michael   E    MD   \n",
       "3         99  Ciancio,   Sebastian   G    DDS   \n",
       "4         99  Ciancio,   Sebastian   G    DDS   \n",
       "...      ...                              ...   \n",
       "4269  719450          Hassan,   Kazi       MD   \n",
       "4270  719923             Yi,   Sung   H    MD   \n",
       "4271  720510                     Huang,   May   \n",
       "4272  721608         Cho,   Austina   B    MD   \n",
       "4273  722902           Rubin,   Jay   J    MD   \n",
       "\n",
       "                              Location                         Address  \\\n",
       "0                       Univ Rochester         601 Elmwood Ave Box 646   \n",
       "1                       Univ Rochester         601 Elmwood Ave Box 646   \n",
       "2                                    -                    311 Park Ave   \n",
       "3     State Univ @ New York Of Buffalo    3435 Main St/250 Squire Hall   \n",
       "4     State Univ @ New York Of Buffalo    3435 Main St/250 Squire Hall   \n",
       "...                                ...                             ...   \n",
       "4269   Florida Medical Pain Management          6333 54Th Avenue North   \n",
       "4270      Advanced Research Center Inc  1020 S Anaheim Blvd, Suite 316   \n",
       "4271                               NaN  1221 Madison Street Suite 1410   \n",
       "4272       Advanced Reserch Center Inc  1020 S Anaheim Blvd, Suite 316   \n",
       "4273               Bioclinica Research             3201 Wedgewood Lane   \n",
       "\n",
       "               City State Cntry    Zip Insp. Date Insp. Type Insp. Class.  \\\n",
       "0         Rochester    NY   USA  14642   08/18/00         DA          VAI   \n",
       "1         Rochester    NY   USA  14642   09/03/86         DA         VAI2   \n",
       "2      Falls Church    VA   USA  22046   01/13/93         DA          NAI   \n",
       "3           Buffalo    NY   USA  14214   12/07/15         DA          NAI   \n",
       "4           Buffalo    NY   USA  14214   02/03/97         DA          VAI   \n",
       "...             ...   ...   ...    ...        ...        ...          ...   \n",
       "4269  St Petersburg    FL   USA  33709   03/05/19         FC          NAI   \n",
       "4270        Anaheim    CA   USA  92805   06/18/19         FC          NAI   \n",
       "4271        Seattle    WA   USA  98104   11/15/18         FC          VAI   \n",
       "4272        Anaheim    CA   USA  92805   06/18/19         FC          NAI   \n",
       "4273   The Villages    FL   USA  32162   01/07/19         FC          VAI   \n",
       "\n",
       "     Insp. Def. Codes  \n",
       "0                  05  \n",
       "1                  03  \n",
       "2                  00  \n",
       "3                  00  \n",
       "4                  03  \n",
       "...               ...  \n",
       "4269               00  \n",
       "4270               00  \n",
       "4271               05  \n",
       "4272               00  \n",
       "4273               04  \n",
       "\n",
       "[4274 rows x 12 columns]"
      ]
     },
     "execution_count": 10,
     "metadata": {},
     "output_type": "execute_result"
    }
   ],
   "source": [
    "df_insp"
   ]
  },
  {
   "cell_type": "code",
   "execution_count": 11,
   "metadata": {
    "papermill": {
     "duration": 0.050943,
     "end_time": "2019-12-11T15:11:11.976657",
     "exception": false,
     "start_time": "2019-12-11T15:11:11.925714",
     "status": "completed"
    },
    "tags": []
   },
   "outputs": [],
   "source": [
    "# rename the 'Insp. Def. codes' to 'insp_codes' and \n",
    "df_insp.rename(columns={'Insp. Def. Codes':'insp_codes'}, inplace=True)\n",
    "df_insp.rename(columns={'Insp. Class.':'insp_class'}, inplace=True)"
   ]
  },
  {
   "cell_type": "code",
   "execution_count": 12,
   "metadata": {
    "papermill": {
     "duration": 0.047905,
     "end_time": "2019-12-11T15:11:12.060071",
     "exception": false,
     "start_time": "2019-12-11T15:11:12.012166",
     "status": "completed"
    },
    "tags": []
   },
   "outputs": [],
   "source": [
    "# convert code '00' and '0' (=no finding noted) into '22' to avoid issues mixing up with NaN\n",
    "df_insp['insp_codes'].replace(['00'], '22', inplace=True)\n",
    "df_insp['insp_codes'].replace(['0'], '22', inplace=True)"
   ]
  },
  {
   "cell_type": "code",
   "execution_count": 13,
   "metadata": {
    "papermill": {
     "duration": 0.084199,
     "end_time": "2019-12-11T15:11:12.182483",
     "exception": false,
     "start_time": "2019-12-11T15:11:12.098284",
     "status": "completed"
    },
    "tags": []
   },
   "outputs": [],
   "source": [
    "# convert empty/blank cells in 'insp_codes'(=with no inspection data) into NaN\n",
    "df_insp = df_insp.replace(r'^\\s+$', np.nan, regex=True)"
   ]
  },
  {
   "cell_type": "code",
   "execution_count": 14,
   "metadata": {
    "papermill": {
     "duration": 0.050407,
     "end_time": "2019-12-11T15:11:12.270692",
     "exception": false,
     "start_time": "2019-12-11T15:11:12.220285",
     "status": "completed"
    },
    "tags": []
   },
   "outputs": [
    {
     "name": "stdout",
     "output_type": "stream",
     "text": [
      "(4160, 12)\n"
     ]
    }
   ],
   "source": [
    "# drop washout inspections\n",
    "df_insp1 = df_insp[df_insp.insp_class != 'WASH']\n",
    "print(df_insp1.shape)"
   ]
  },
  {
   "cell_type": "code",
   "execution_count": 15,
   "metadata": {
    "papermill": {
     "duration": 0.059434,
     "end_time": "2019-12-11T15:11:12.368135",
     "exception": false,
     "start_time": "2019-12-11T15:11:12.308701",
     "status": "completed"
    },
    "tags": []
   },
   "outputs": [
    {
     "name": "stdout",
     "output_type": "stream",
     "text": [
      "(3972, 12)\n"
     ]
    }
   ],
   "source": [
    "# drop canceled inspections\n",
    "insp_data = df_insp1[df_insp1.insp_class != 'CANC']\n",
    "print(insp_data.shape)"
   ]
  },
  {
   "cell_type": "code",
   "execution_count": 16,
   "metadata": {
    "papermill": {
     "duration": 0.050865,
     "end_time": "2019-12-11T15:11:12.456389",
     "exception": false,
     "start_time": "2019-12-11T15:11:12.405524",
     "status": "completed"
    },
    "tags": []
   },
   "outputs": [
    {
     "name": "stdout",
     "output_type": "stream",
     "text": [
      "(937, 12)\n"
     ]
    }
   ],
   "source": [
    "# look for inspections with no action required 'NAI' but w/o code assigned\n",
    "\n",
    "insp_data_NULL = insp_data[insp_data['insp_codes'].isnull()]\n",
    "print(insp_data_NULL.shape)"
   ]
  },
  {
   "cell_type": "code",
   "execution_count": 17,
   "metadata": {
    "papermill": {
     "duration": 0.048977,
     "end_time": "2019-12-11T15:11:12.542642",
     "exception": false,
     "start_time": "2019-12-11T15:11:12.493665",
     "status": "completed"
    },
    "tags": []
   },
   "outputs": [
    {
     "name": "stdout",
     "output_type": "stream",
     "text": [
      "(571, 12)\n"
     ]
    }
   ],
   "source": [
    "insp_data_NAI_and_null = insp_data_NULL[insp_data_NULL['insp_class'] == 'NAI']\n",
    "print(insp_data_NAI_and_null.shape)"
   ]
  },
  {
   "cell_type": "code",
   "execution_count": 18,
   "metadata": {
    "papermill": {
     "duration": 0.05486,
     "end_time": "2019-12-11T15:11:12.636610",
     "exception": false,
     "start_time": "2019-12-11T15:11:12.581750",
     "status": "completed"
    },
    "tags": []
   },
   "outputs": [
    {
     "name": "stdout",
     "output_type": "stream",
     "text": [
      "(3972, 12)\n"
     ]
    },
    {
     "name": "stderr",
     "output_type": "stream",
     "text": [
      "/opt/conda/lib/python3.7/site-packages/pandas/core/indexing.py:494: SettingWithCopyWarning: \n",
      "A value is trying to be set on a copy of a slice from a DataFrame.\n",
      "Try using .loc[row_indexer,col_indexer] = value instead\n",
      "\n",
      "See the caveats in the documentation: http://pandas.pydata.org/pandas-docs/stable/user_guide/indexing.html#returning-a-view-versus-a-copy\n",
      "  self.obj[item] = s\n"
     ]
    }
   ],
   "source": [
    "# there are inspections with insp_class = No Action Indicated (NAI) w/o inspection code\n",
    "# assign them 'insp_code' = 22\n",
    "\n",
    "insp_data.loc[(insp_data['insp_class'] == 'NAI'), 'insp_codes'] = '22'\n",
    "print(insp_data.shape)"
   ]
  },
  {
   "cell_type": "code",
   "execution_count": 19,
   "metadata": {
    "papermill": {
     "duration": 0.050631,
     "end_time": "2019-12-11T15:11:12.726837",
     "exception": false,
     "start_time": "2019-12-11T15:11:12.676206",
     "status": "completed"
    },
    "tags": []
   },
   "outputs": [
    {
     "name": "stdout",
     "output_type": "stream",
     "text": [
      "(366, 12)\n"
     ]
    }
   ],
   "source": [
    "# check numbers add up\n",
    "\n",
    "print((insp_data[insp_data['insp_codes'].isnull()]).shape)\n",
    "\n",
    "# 961 rows with NaN = 639 insp_class = 'NAI' AND insp_code= '22' + 322 insp_code = NaN\n",
    "# ---> OK"
   ]
  },
  {
   "cell_type": "code",
   "execution_count": 20,
   "metadata": {
    "papermill": {
     "duration": 0.050477,
     "end_time": "2019-12-11T15:11:12.816762",
     "exception": false,
     "start_time": "2019-12-11T15:11:12.766285",
     "status": "completed"
    },
    "tags": []
   },
   "outputs": [],
   "source": [
    "# look for rows with typos\n",
    "value_list = [',', ',,',',,,']"
   ]
  },
  {
   "cell_type": "code",
   "execution_count": 21,
   "metadata": {
    "papermill": {
     "duration": 0.059689,
     "end_time": "2019-12-11T15:11:12.915899",
     "exception": false,
     "start_time": "2019-12-11T15:11:12.856210",
     "status": "completed"
    },
    "tags": []
   },
   "outputs": [
    {
     "data": {
      "text/html": [
       "<div>\n",
       "<style scoped>\n",
       "    .dataframe tbody tr th:only-of-type {\n",
       "        vertical-align: middle;\n",
       "    }\n",
       "\n",
       "    .dataframe tbody tr th {\n",
       "        vertical-align: top;\n",
       "    }\n",
       "\n",
       "    .dataframe thead th {\n",
       "        text-align: right;\n",
       "    }\n",
       "</style>\n",
       "<table border=\"1\" class=\"dataframe\">\n",
       "  <thead>\n",
       "    <tr style=\"text-align: right;\">\n",
       "      <th></th>\n",
       "      <th>ID No.</th>\n",
       "      <th>Name</th>\n",
       "      <th>Location</th>\n",
       "      <th>Address</th>\n",
       "      <th>City</th>\n",
       "      <th>State</th>\n",
       "      <th>Cntry</th>\n",
       "      <th>Zip</th>\n",
       "      <th>Insp. Date</th>\n",
       "      <th>Insp. Type</th>\n",
       "      <th>insp_class</th>\n",
       "      <th>insp_codes</th>\n",
       "    </tr>\n",
       "  </thead>\n",
       "  <tbody>\n",
       "    <tr>\n",
       "      <th>520</th>\n",
       "      <td>14835</td>\n",
       "      <td>Shalita,   Alan   R    MD</td>\n",
       "      <td>Suny Hlth Sci Ctr                             ...</td>\n",
       "      <td>450 Clarkson Ave Box 46</td>\n",
       "      <td>Brooklyn</td>\n",
       "      <td>NY</td>\n",
       "      <td>USA</td>\n",
       "      <td>11203</td>\n",
       "      <td>08/08/83</td>\n",
       "      <td>DA</td>\n",
       "      <td>VAI3F</td>\n",
       "      <td>,</td>\n",
       "    </tr>\n",
       "    <tr>\n",
       "      <th>521</th>\n",
       "      <td>14835</td>\n",
       "      <td>Shalita,   Alan   R    MD</td>\n",
       "      <td>Suny Hlth Sci Ctr                             ...</td>\n",
       "      <td>450 Clarkson Ave Box 46</td>\n",
       "      <td>Brooklyn</td>\n",
       "      <td>NY</td>\n",
       "      <td>USA</td>\n",
       "      <td>11203</td>\n",
       "      <td>08/08/83</td>\n",
       "      <td>DA</td>\n",
       "      <td>VAI3R</td>\n",
       "      <td>,</td>\n",
       "    </tr>\n",
       "    <tr>\n",
       "      <th>1503</th>\n",
       "      <td>56699</td>\n",
       "      <td>Scharf,   Martin   B    PHD</td>\n",
       "      <td>Ctr Res Sleep Disorders/Tristate Sleep Disorde...</td>\n",
       "      <td>1275 E Kemper Rd</td>\n",
       "      <td>Cincinnati</td>\n",
       "      <td>OH</td>\n",
       "      <td>USA</td>\n",
       "      <td>45246</td>\n",
       "      <td>02/06/01</td>\n",
       "      <td>DA</td>\n",
       "      <td>OAIW</td>\n",
       "      <td>,</td>\n",
       "    </tr>\n",
       "    <tr>\n",
       "      <th>2297</th>\n",
       "      <td>83034</td>\n",
       "      <td>Trapp,   George   A    MD</td>\n",
       "      <td>Va Med Ctr</td>\n",
       "      <td>4500 S Lancaster Rd</td>\n",
       "      <td>Dallas</td>\n",
       "      <td>TX</td>\n",
       "      <td>USA</td>\n",
       "      <td>75216</td>\n",
       "      <td>10/16/80</td>\n",
       "      <td>DA</td>\n",
       "      <td>VAI2</td>\n",
       "      <td>,</td>\n",
       "    </tr>\n",
       "    <tr>\n",
       "      <th>2783</th>\n",
       "      <td>99809</td>\n",
       "      <td>Moskowitz,   George       MD</td>\n",
       "      <td>-</td>\n",
       "      <td>101 Rutledge St</td>\n",
       "      <td>Charlestown</td>\n",
       "      <td>SC</td>\n",
       "      <td>USA</td>\n",
       "      <td>00000</td>\n",
       "      <td>05/29/81</td>\n",
       "      <td>FC</td>\n",
       "      <td>OAIC</td>\n",
       "      <td>,</td>\n",
       "    </tr>\n",
       "  </tbody>\n",
       "</table>\n",
       "</div>"
      ],
      "text/plain": [
       "      ID No.                          Name  \\\n",
       "520    14835     Shalita,   Alan   R    MD   \n",
       "521    14835     Shalita,   Alan   R    MD   \n",
       "1503   56699   Scharf,   Martin   B    PHD   \n",
       "2297   83034     Trapp,   George   A    MD   \n",
       "2783   99809  Moskowitz,   George       MD   \n",
       "\n",
       "                                               Location  \\\n",
       "520   Suny Hlth Sci Ctr                             ...   \n",
       "521   Suny Hlth Sci Ctr                             ...   \n",
       "1503  Ctr Res Sleep Disorders/Tristate Sleep Disorde...   \n",
       "2297                                         Va Med Ctr   \n",
       "2783                                                  -   \n",
       "\n",
       "                      Address         City State Cntry    Zip Insp. Date  \\\n",
       "520   450 Clarkson Ave Box 46     Brooklyn    NY   USA  11203   08/08/83   \n",
       "521   450 Clarkson Ave Box 46     Brooklyn    NY   USA  11203   08/08/83   \n",
       "1503         1275 E Kemper Rd   Cincinnati    OH   USA  45246   02/06/01   \n",
       "2297      4500 S Lancaster Rd       Dallas    TX   USA  75216   10/16/80   \n",
       "2783          101 Rutledge St  Charlestown    SC   USA  00000   05/29/81   \n",
       "\n",
       "     Insp. Type insp_class insp_codes  \n",
       "520          DA      VAI3F          ,  \n",
       "521          DA      VAI3R          ,  \n",
       "1503         DA       OAIW          ,  \n",
       "2297         DA       VAI2          ,  \n",
       "2783         FC       OAIC          ,  "
      ]
     },
     "execution_count": 21,
     "metadata": {},
     "output_type": "execute_result"
    }
   ],
   "source": [
    "insp_data[insp_data.insp_codes.isin(value_list)]"
   ]
  },
  {
   "cell_type": "code",
   "execution_count": 22,
   "metadata": {
    "papermill": {
     "duration": 0.054208,
     "end_time": "2019-12-11T15:11:13.008742",
     "exception": false,
     "start_time": "2019-12-11T15:11:12.954534",
     "status": "completed"
    },
    "tags": []
   },
   "outputs": [
    {
     "name": "stderr",
     "output_type": "stream",
     "text": [
      "/opt/conda/lib/python3.7/site-packages/pandas/core/generic.py:6786: SettingWithCopyWarning: \n",
      "A value is trying to be set on a copy of a slice from a DataFrame\n",
      "\n",
      "See the caveats in the documentation: http://pandas.pydata.org/pandas-docs/stable/user_guide/indexing.html#returning-a-view-versus-a-copy\n",
      "  self._update_inplace(new_data)\n"
     ]
    }
   ],
   "source": [
    "# replace typo with '23' (=no data available)\n",
    "insp_data['insp_codes'].replace([','], '23', inplace=True)"
   ]
  },
  {
   "cell_type": "code",
   "execution_count": 23,
   "metadata": {
    "papermill": {
     "duration": 0.054511,
     "end_time": "2019-12-11T15:11:13.102865",
     "exception": false,
     "start_time": "2019-12-11T15:11:13.048354",
     "status": "completed"
    },
    "tags": []
   },
   "outputs": [],
   "source": [
    "# replace typo (,00) - replace by 22\n",
    "insp_data['insp_codes'].replace([',00'], '22', inplace=True)"
   ]
  },
  {
   "cell_type": "code",
   "execution_count": 24,
   "metadata": {
    "papermill": {
     "duration": 0.066003,
     "end_time": "2019-12-11T15:11:13.209665",
     "exception": false,
     "start_time": "2019-12-11T15:11:13.143662",
     "status": "completed"
    },
    "tags": []
   },
   "outputs": [
    {
     "data": {
      "text/html": [
       "<div>\n",
       "<style scoped>\n",
       "    .dataframe tbody tr th:only-of-type {\n",
       "        vertical-align: middle;\n",
       "    }\n",
       "\n",
       "    .dataframe tbody tr th {\n",
       "        vertical-align: top;\n",
       "    }\n",
       "\n",
       "    .dataframe thead th {\n",
       "        text-align: right;\n",
       "    }\n",
       "</style>\n",
       "<table border=\"1\" class=\"dataframe\">\n",
       "  <thead>\n",
       "    <tr style=\"text-align: right;\">\n",
       "      <th></th>\n",
       "      <th>ID No.</th>\n",
       "      <th>Name</th>\n",
       "      <th>Location</th>\n",
       "      <th>Address</th>\n",
       "      <th>City</th>\n",
       "      <th>State</th>\n",
       "      <th>Cntry</th>\n",
       "      <th>Zip</th>\n",
       "      <th>Insp. Date</th>\n",
       "      <th>Insp. Type</th>\n",
       "      <th>insp_class</th>\n",
       "      <th>insp_codes</th>\n",
       "    </tr>\n",
       "  </thead>\n",
       "  <tbody>\n",
       "    <tr>\n",
       "      <th>0</th>\n",
       "      <td>44</td>\n",
       "      <td>Chey,   William   Y    MD</td>\n",
       "      <td>Univ Rochester</td>\n",
       "      <td>601 Elmwood Ave Box 646</td>\n",
       "      <td>Rochester</td>\n",
       "      <td>NY</td>\n",
       "      <td>USA</td>\n",
       "      <td>14642</td>\n",
       "      <td>08/18/00</td>\n",
       "      <td>DA</td>\n",
       "      <td>VAI</td>\n",
       "      <td>05</td>\n",
       "    </tr>\n",
       "    <tr>\n",
       "      <th>1</th>\n",
       "      <td>44</td>\n",
       "      <td>Chey,   William   Y    MD</td>\n",
       "      <td>Univ Rochester</td>\n",
       "      <td>601 Elmwood Ave Box 646</td>\n",
       "      <td>Rochester</td>\n",
       "      <td>NY</td>\n",
       "      <td>USA</td>\n",
       "      <td>14642</td>\n",
       "      <td>09/03/86</td>\n",
       "      <td>DA</td>\n",
       "      <td>VAI2</td>\n",
       "      <td>03</td>\n",
       "    </tr>\n",
       "    <tr>\n",
       "      <th>2</th>\n",
       "      <td>66</td>\n",
       "      <td>Davidov,   Michael   E    MD</td>\n",
       "      <td>-</td>\n",
       "      <td>311 Park Ave</td>\n",
       "      <td>Falls Church</td>\n",
       "      <td>VA</td>\n",
       "      <td>USA</td>\n",
       "      <td>22046</td>\n",
       "      <td>01/13/93</td>\n",
       "      <td>DA</td>\n",
       "      <td>NAI</td>\n",
       "      <td>22</td>\n",
       "    </tr>\n",
       "    <tr>\n",
       "      <th>3</th>\n",
       "      <td>99</td>\n",
       "      <td>Ciancio,   Sebastian   G    DDS</td>\n",
       "      <td>State Univ @ New York Of Buffalo</td>\n",
       "      <td>3435 Main St/250 Squire Hall</td>\n",
       "      <td>Buffalo</td>\n",
       "      <td>NY</td>\n",
       "      <td>USA</td>\n",
       "      <td>14214</td>\n",
       "      <td>12/07/15</td>\n",
       "      <td>DA</td>\n",
       "      <td>NAI</td>\n",
       "      <td>22</td>\n",
       "    </tr>\n",
       "    <tr>\n",
       "      <th>4</th>\n",
       "      <td>99</td>\n",
       "      <td>Ciancio,   Sebastian   G    DDS</td>\n",
       "      <td>State Univ @ New York Of Buffalo</td>\n",
       "      <td>3435 Main St/250 Squire Hall</td>\n",
       "      <td>Buffalo</td>\n",
       "      <td>NY</td>\n",
       "      <td>USA</td>\n",
       "      <td>14214</td>\n",
       "      <td>02/03/97</td>\n",
       "      <td>DA</td>\n",
       "      <td>VAI</td>\n",
       "      <td>03</td>\n",
       "    </tr>\n",
       "    <tr>\n",
       "      <th>...</th>\n",
       "      <td>...</td>\n",
       "      <td>...</td>\n",
       "      <td>...</td>\n",
       "      <td>...</td>\n",
       "      <td>...</td>\n",
       "      <td>...</td>\n",
       "      <td>...</td>\n",
       "      <td>...</td>\n",
       "      <td>...</td>\n",
       "      <td>...</td>\n",
       "      <td>...</td>\n",
       "      <td>...</td>\n",
       "    </tr>\n",
       "    <tr>\n",
       "      <th>4269</th>\n",
       "      <td>719450</td>\n",
       "      <td>Hassan,   Kazi       MD</td>\n",
       "      <td>Florida Medical Pain Management</td>\n",
       "      <td>6333 54Th Avenue North</td>\n",
       "      <td>St Petersburg</td>\n",
       "      <td>FL</td>\n",
       "      <td>USA</td>\n",
       "      <td>33709</td>\n",
       "      <td>03/05/19</td>\n",
       "      <td>FC</td>\n",
       "      <td>NAI</td>\n",
       "      <td>22</td>\n",
       "    </tr>\n",
       "    <tr>\n",
       "      <th>4270</th>\n",
       "      <td>719923</td>\n",
       "      <td>Yi,   Sung   H    MD</td>\n",
       "      <td>Advanced Research Center Inc</td>\n",
       "      <td>1020 S Anaheim Blvd, Suite 316</td>\n",
       "      <td>Anaheim</td>\n",
       "      <td>CA</td>\n",
       "      <td>USA</td>\n",
       "      <td>92805</td>\n",
       "      <td>06/18/19</td>\n",
       "      <td>FC</td>\n",
       "      <td>NAI</td>\n",
       "      <td>22</td>\n",
       "    </tr>\n",
       "    <tr>\n",
       "      <th>4271</th>\n",
       "      <td>720510</td>\n",
       "      <td>Huang,   May</td>\n",
       "      <td>NaN</td>\n",
       "      <td>1221 Madison Street Suite 1410</td>\n",
       "      <td>Seattle</td>\n",
       "      <td>WA</td>\n",
       "      <td>USA</td>\n",
       "      <td>98104</td>\n",
       "      <td>11/15/18</td>\n",
       "      <td>FC</td>\n",
       "      <td>VAI</td>\n",
       "      <td>05</td>\n",
       "    </tr>\n",
       "    <tr>\n",
       "      <th>4272</th>\n",
       "      <td>721608</td>\n",
       "      <td>Cho,   Austina   B    MD</td>\n",
       "      <td>Advanced Reserch Center Inc</td>\n",
       "      <td>1020 S Anaheim Blvd, Suite 316</td>\n",
       "      <td>Anaheim</td>\n",
       "      <td>CA</td>\n",
       "      <td>USA</td>\n",
       "      <td>92805</td>\n",
       "      <td>06/18/19</td>\n",
       "      <td>FC</td>\n",
       "      <td>NAI</td>\n",
       "      <td>22</td>\n",
       "    </tr>\n",
       "    <tr>\n",
       "      <th>4273</th>\n",
       "      <td>722902</td>\n",
       "      <td>Rubin,   Jay   J    MD</td>\n",
       "      <td>Bioclinica Research</td>\n",
       "      <td>3201 Wedgewood Lane</td>\n",
       "      <td>The Villages</td>\n",
       "      <td>FL</td>\n",
       "      <td>USA</td>\n",
       "      <td>32162</td>\n",
       "      <td>01/07/19</td>\n",
       "      <td>FC</td>\n",
       "      <td>VAI</td>\n",
       "      <td>04</td>\n",
       "    </tr>\n",
       "  </tbody>\n",
       "</table>\n",
       "<p>3972 rows × 12 columns</p>\n",
       "</div>"
      ],
      "text/plain": [
       "      ID No.                             Name  \\\n",
       "0         44        Chey,   William   Y    MD   \n",
       "1         44        Chey,   William   Y    MD   \n",
       "2         66     Davidov,   Michael   E    MD   \n",
       "3         99  Ciancio,   Sebastian   G    DDS   \n",
       "4         99  Ciancio,   Sebastian   G    DDS   \n",
       "...      ...                              ...   \n",
       "4269  719450          Hassan,   Kazi       MD   \n",
       "4270  719923             Yi,   Sung   H    MD   \n",
       "4271  720510                     Huang,   May   \n",
       "4272  721608         Cho,   Austina   B    MD   \n",
       "4273  722902           Rubin,   Jay   J    MD   \n",
       "\n",
       "                              Location                         Address  \\\n",
       "0                       Univ Rochester         601 Elmwood Ave Box 646   \n",
       "1                       Univ Rochester         601 Elmwood Ave Box 646   \n",
       "2                                    -                    311 Park Ave   \n",
       "3     State Univ @ New York Of Buffalo    3435 Main St/250 Squire Hall   \n",
       "4     State Univ @ New York Of Buffalo    3435 Main St/250 Squire Hall   \n",
       "...                                ...                             ...   \n",
       "4269   Florida Medical Pain Management          6333 54Th Avenue North   \n",
       "4270      Advanced Research Center Inc  1020 S Anaheim Blvd, Suite 316   \n",
       "4271                               NaN  1221 Madison Street Suite 1410   \n",
       "4272       Advanced Reserch Center Inc  1020 S Anaheim Blvd, Suite 316   \n",
       "4273               Bioclinica Research             3201 Wedgewood Lane   \n",
       "\n",
       "               City State Cntry    Zip Insp. Date Insp. Type insp_class  \\\n",
       "0         Rochester    NY   USA  14642   08/18/00         DA        VAI   \n",
       "1         Rochester    NY   USA  14642   09/03/86         DA       VAI2   \n",
       "2      Falls Church    VA   USA  22046   01/13/93         DA        NAI   \n",
       "3           Buffalo    NY   USA  14214   12/07/15         DA        NAI   \n",
       "4           Buffalo    NY   USA  14214   02/03/97         DA        VAI   \n",
       "...             ...   ...   ...    ...        ...        ...        ...   \n",
       "4269  St Petersburg    FL   USA  33709   03/05/19         FC        NAI   \n",
       "4270        Anaheim    CA   USA  92805   06/18/19         FC        NAI   \n",
       "4271        Seattle    WA   USA  98104   11/15/18         FC        VAI   \n",
       "4272        Anaheim    CA   USA  92805   06/18/19         FC        NAI   \n",
       "4273   The Villages    FL   USA  32162   01/07/19         FC        VAI   \n",
       "\n",
       "     insp_codes  \n",
       "0            05  \n",
       "1            03  \n",
       "2            22  \n",
       "3            22  \n",
       "4            03  \n",
       "...         ...  \n",
       "4269         22  \n",
       "4270         22  \n",
       "4271         05  \n",
       "4272         22  \n",
       "4273         04  \n",
       "\n",
       "[3972 rows x 12 columns]"
      ]
     },
     "execution_count": 24,
     "metadata": {},
     "output_type": "execute_result"
    }
   ],
   "source": [
    "insp_data"
   ]
  },
  {
   "cell_type": "code",
   "execution_count": 25,
   "metadata": {
    "papermill": {
     "duration": 0.068409,
     "end_time": "2019-12-11T15:11:13.321990",
     "exception": false,
     "start_time": "2019-12-11T15:11:13.253581",
     "status": "completed"
    },
    "tags": []
   },
   "outputs": [],
   "source": [
    "# explose insp_codes column (requires pandas >0.25)\n",
    "insp_data_interim = insp_data.assign(insp_codes=df_insp.insp_codes.str.split(',')).explode('insp_codes')"
   ]
  },
  {
   "cell_type": "code",
   "execution_count": 26,
   "metadata": {
    "papermill": {
     "duration": 0.089072,
     "end_time": "2019-12-11T15:11:13.453944",
     "exception": false,
     "start_time": "2019-12-11T15:11:13.364872",
     "status": "completed"
    },
    "tags": []
   },
   "outputs": [
    {
     "data": {
      "text/html": [
       "<div>\n",
       "<style scoped>\n",
       "    .dataframe tbody tr th:only-of-type {\n",
       "        vertical-align: middle;\n",
       "    }\n",
       "\n",
       "    .dataframe tbody tr th {\n",
       "        vertical-align: top;\n",
       "    }\n",
       "\n",
       "    .dataframe thead th {\n",
       "        text-align: right;\n",
       "    }\n",
       "</style>\n",
       "<table border=\"1\" class=\"dataframe\">\n",
       "  <thead>\n",
       "    <tr style=\"text-align: right;\">\n",
       "      <th></th>\n",
       "      <th>ID No.</th>\n",
       "      <th>Name</th>\n",
       "      <th>Location</th>\n",
       "      <th>Address</th>\n",
       "      <th>City</th>\n",
       "      <th>State</th>\n",
       "      <th>Cntry</th>\n",
       "      <th>Zip</th>\n",
       "      <th>Insp. Date</th>\n",
       "      <th>Insp. Type</th>\n",
       "      <th>insp_class</th>\n",
       "      <th>insp_codes</th>\n",
       "    </tr>\n",
       "  </thead>\n",
       "  <tbody>\n",
       "    <tr>\n",
       "      <th>0</th>\n",
       "      <td>44</td>\n",
       "      <td>Chey,   William   Y    MD</td>\n",
       "      <td>Univ Rochester</td>\n",
       "      <td>601 Elmwood Ave Box 646</td>\n",
       "      <td>Rochester</td>\n",
       "      <td>NY</td>\n",
       "      <td>USA</td>\n",
       "      <td>14642</td>\n",
       "      <td>08/18/00</td>\n",
       "      <td>DA</td>\n",
       "      <td>VAI</td>\n",
       "      <td>05</td>\n",
       "    </tr>\n",
       "    <tr>\n",
       "      <th>1</th>\n",
       "      <td>44</td>\n",
       "      <td>Chey,   William   Y    MD</td>\n",
       "      <td>Univ Rochester</td>\n",
       "      <td>601 Elmwood Ave Box 646</td>\n",
       "      <td>Rochester</td>\n",
       "      <td>NY</td>\n",
       "      <td>USA</td>\n",
       "      <td>14642</td>\n",
       "      <td>09/03/86</td>\n",
       "      <td>DA</td>\n",
       "      <td>VAI2</td>\n",
       "      <td>03</td>\n",
       "    </tr>\n",
       "    <tr>\n",
       "      <th>2</th>\n",
       "      <td>66</td>\n",
       "      <td>Davidov,   Michael   E    MD</td>\n",
       "      <td>-</td>\n",
       "      <td>311 Park Ave</td>\n",
       "      <td>Falls Church</td>\n",
       "      <td>VA</td>\n",
       "      <td>USA</td>\n",
       "      <td>22046</td>\n",
       "      <td>01/13/93</td>\n",
       "      <td>DA</td>\n",
       "      <td>NAI</td>\n",
       "      <td>22</td>\n",
       "    </tr>\n",
       "    <tr>\n",
       "      <th>3</th>\n",
       "      <td>99</td>\n",
       "      <td>Ciancio,   Sebastian   G    DDS</td>\n",
       "      <td>State Univ @ New York Of Buffalo</td>\n",
       "      <td>3435 Main St/250 Squire Hall</td>\n",
       "      <td>Buffalo</td>\n",
       "      <td>NY</td>\n",
       "      <td>USA</td>\n",
       "      <td>14214</td>\n",
       "      <td>12/07/15</td>\n",
       "      <td>DA</td>\n",
       "      <td>NAI</td>\n",
       "      <td>22</td>\n",
       "    </tr>\n",
       "    <tr>\n",
       "      <th>4</th>\n",
       "      <td>99</td>\n",
       "      <td>Ciancio,   Sebastian   G    DDS</td>\n",
       "      <td>State Univ @ New York Of Buffalo</td>\n",
       "      <td>3435 Main St/250 Squire Hall</td>\n",
       "      <td>Buffalo</td>\n",
       "      <td>NY</td>\n",
       "      <td>USA</td>\n",
       "      <td>14214</td>\n",
       "      <td>02/03/97</td>\n",
       "      <td>DA</td>\n",
       "      <td>VAI</td>\n",
       "      <td>03</td>\n",
       "    </tr>\n",
       "    <tr>\n",
       "      <th>...</th>\n",
       "      <td>...</td>\n",
       "      <td>...</td>\n",
       "      <td>...</td>\n",
       "      <td>...</td>\n",
       "      <td>...</td>\n",
       "      <td>...</td>\n",
       "      <td>...</td>\n",
       "      <td>...</td>\n",
       "      <td>...</td>\n",
       "      <td>...</td>\n",
       "      <td>...</td>\n",
       "      <td>...</td>\n",
       "    </tr>\n",
       "    <tr>\n",
       "      <th>4269</th>\n",
       "      <td>719450</td>\n",
       "      <td>Hassan,   Kazi       MD</td>\n",
       "      <td>Florida Medical Pain Management</td>\n",
       "      <td>6333 54Th Avenue North</td>\n",
       "      <td>St Petersburg</td>\n",
       "      <td>FL</td>\n",
       "      <td>USA</td>\n",
       "      <td>33709</td>\n",
       "      <td>03/05/19</td>\n",
       "      <td>FC</td>\n",
       "      <td>NAI</td>\n",
       "      <td>22</td>\n",
       "    </tr>\n",
       "    <tr>\n",
       "      <th>4270</th>\n",
       "      <td>719923</td>\n",
       "      <td>Yi,   Sung   H    MD</td>\n",
       "      <td>Advanced Research Center Inc</td>\n",
       "      <td>1020 S Anaheim Blvd, Suite 316</td>\n",
       "      <td>Anaheim</td>\n",
       "      <td>CA</td>\n",
       "      <td>USA</td>\n",
       "      <td>92805</td>\n",
       "      <td>06/18/19</td>\n",
       "      <td>FC</td>\n",
       "      <td>NAI</td>\n",
       "      <td>22</td>\n",
       "    </tr>\n",
       "    <tr>\n",
       "      <th>4271</th>\n",
       "      <td>720510</td>\n",
       "      <td>Huang,   May</td>\n",
       "      <td>NaN</td>\n",
       "      <td>1221 Madison Street Suite 1410</td>\n",
       "      <td>Seattle</td>\n",
       "      <td>WA</td>\n",
       "      <td>USA</td>\n",
       "      <td>98104</td>\n",
       "      <td>11/15/18</td>\n",
       "      <td>FC</td>\n",
       "      <td>VAI</td>\n",
       "      <td>05</td>\n",
       "    </tr>\n",
       "    <tr>\n",
       "      <th>4272</th>\n",
       "      <td>721608</td>\n",
       "      <td>Cho,   Austina   B    MD</td>\n",
       "      <td>Advanced Reserch Center Inc</td>\n",
       "      <td>1020 S Anaheim Blvd, Suite 316</td>\n",
       "      <td>Anaheim</td>\n",
       "      <td>CA</td>\n",
       "      <td>USA</td>\n",
       "      <td>92805</td>\n",
       "      <td>06/18/19</td>\n",
       "      <td>FC</td>\n",
       "      <td>NAI</td>\n",
       "      <td>22</td>\n",
       "    </tr>\n",
       "    <tr>\n",
       "      <th>4273</th>\n",
       "      <td>722902</td>\n",
       "      <td>Rubin,   Jay   J    MD</td>\n",
       "      <td>Bioclinica Research</td>\n",
       "      <td>3201 Wedgewood Lane</td>\n",
       "      <td>The Villages</td>\n",
       "      <td>FL</td>\n",
       "      <td>USA</td>\n",
       "      <td>32162</td>\n",
       "      <td>01/07/19</td>\n",
       "      <td>FC</td>\n",
       "      <td>VAI</td>\n",
       "      <td>04</td>\n",
       "    </tr>\n",
       "  </tbody>\n",
       "</table>\n",
       "<p>7607 rows × 12 columns</p>\n",
       "</div>"
      ],
      "text/plain": [
       "      ID No.                             Name  \\\n",
       "0         44        Chey,   William   Y    MD   \n",
       "1         44        Chey,   William   Y    MD   \n",
       "2         66     Davidov,   Michael   E    MD   \n",
       "3         99  Ciancio,   Sebastian   G    DDS   \n",
       "4         99  Ciancio,   Sebastian   G    DDS   \n",
       "...      ...                              ...   \n",
       "4269  719450          Hassan,   Kazi       MD   \n",
       "4270  719923             Yi,   Sung   H    MD   \n",
       "4271  720510                     Huang,   May   \n",
       "4272  721608         Cho,   Austina   B    MD   \n",
       "4273  722902           Rubin,   Jay   J    MD   \n",
       "\n",
       "                              Location                         Address  \\\n",
       "0                       Univ Rochester         601 Elmwood Ave Box 646   \n",
       "1                       Univ Rochester         601 Elmwood Ave Box 646   \n",
       "2                                    -                    311 Park Ave   \n",
       "3     State Univ @ New York Of Buffalo    3435 Main St/250 Squire Hall   \n",
       "4     State Univ @ New York Of Buffalo    3435 Main St/250 Squire Hall   \n",
       "...                                ...                             ...   \n",
       "4269   Florida Medical Pain Management          6333 54Th Avenue North   \n",
       "4270      Advanced Research Center Inc  1020 S Anaheim Blvd, Suite 316   \n",
       "4271                               NaN  1221 Madison Street Suite 1410   \n",
       "4272       Advanced Reserch Center Inc  1020 S Anaheim Blvd, Suite 316   \n",
       "4273               Bioclinica Research             3201 Wedgewood Lane   \n",
       "\n",
       "               City State Cntry    Zip Insp. Date Insp. Type insp_class  \\\n",
       "0         Rochester    NY   USA  14642   08/18/00         DA        VAI   \n",
       "1         Rochester    NY   USA  14642   09/03/86         DA       VAI2   \n",
       "2      Falls Church    VA   USA  22046   01/13/93         DA        NAI   \n",
       "3           Buffalo    NY   USA  14214   12/07/15         DA        NAI   \n",
       "4           Buffalo    NY   USA  14214   02/03/97         DA        VAI   \n",
       "...             ...   ...   ...    ...        ...        ...        ...   \n",
       "4269  St Petersburg    FL   USA  33709   03/05/19         FC        NAI   \n",
       "4270        Anaheim    CA   USA  92805   06/18/19         FC        NAI   \n",
       "4271        Seattle    WA   USA  98104   11/15/18         FC        VAI   \n",
       "4272        Anaheim    CA   USA  92805   06/18/19         FC        NAI   \n",
       "4273   The Villages    FL   USA  32162   01/07/19         FC        VAI   \n",
       "\n",
       "     insp_codes  \n",
       "0            05  \n",
       "1            03  \n",
       "2            22  \n",
       "3            22  \n",
       "4            03  \n",
       "...         ...  \n",
       "4269         22  \n",
       "4270         22  \n",
       "4271         05  \n",
       "4272         22  \n",
       "4273         04  \n",
       "\n",
       "[7607 rows x 12 columns]"
      ]
     },
     "execution_count": 26,
     "metadata": {},
     "output_type": "execute_result"
    }
   ],
   "source": [
    "# check\n",
    "insp_data_interim"
   ]
  },
  {
   "cell_type": "code",
   "execution_count": 27,
   "metadata": {
    "papermill": {
     "duration": 0.079747,
     "end_time": "2019-12-11T15:11:13.586781",
     "exception": false,
     "start_time": "2019-12-11T15:11:13.507034",
     "status": "completed"
    },
    "tags": []
   },
   "outputs": [],
   "source": [
    "# convert insp_code into numeric data for the join\n",
    "insp_data_interim['insp_codes'] = pd.to_numeric(insp_data_interim['insp_codes'])"
   ]
  },
  {
   "cell_type": "code",
   "execution_count": 28,
   "metadata": {
    "papermill": {
     "duration": 0.059427,
     "end_time": "2019-12-11T15:11:13.756112",
     "exception": false,
     "start_time": "2019-12-11T15:11:13.696685",
     "status": "completed"
    },
    "tags": []
   },
   "outputs": [
    {
     "name": "stdout",
     "output_type": "stream",
     "text": [
      "[ 5.  3. 22. 15.  6. nan  0.  4.  7. 16. 12. 14. 18.  1.  2.  8. 10. 13.\n",
      " 11.  9. 17. 20. 19.]\n"
     ]
    }
   ],
   "source": [
    "# Verify values in insp_codes\n",
    "print(insp_data_interim.insp_codes.unique())"
   ]
  },
  {
   "cell_type": "code",
   "execution_count": 29,
   "metadata": {
    "papermill": {
     "duration": 0.06111,
     "end_time": "2019-12-11T15:11:13.862011",
     "exception": false,
     "start_time": "2019-12-11T15:11:13.800901",
     "status": "completed"
    },
    "tags": []
   },
   "outputs": [
    {
     "name": "stdout",
     "output_type": "stream",
     "text": [
      "      ID No.                              Name  \\\n",
      "7        113   Vlachakis,   Nicholas   D    MD   \n",
      "8        113   Vlachakis,   Nicholas   D    MD   \n",
      "9        146      Homesley,   Howard   D    MD   \n",
      "14       271          Lipton,   Allan       MD   \n",
      "31       748    Pendergrass,   Kelly   B    MD   \n",
      "...      ...                               ...   \n",
      "4171  642028                Chisti,   Mohammad   \n",
      "4178  648641                   Driver,   Brian   \n",
      "4195  661444  Castellon,   Celestino   P    MD   \n",
      "4201  666448                  Racke,   Michael   \n",
      "4254  697186                Meltzer,   Herbert   \n",
      "\n",
      "                                               Location  \\\n",
      "7                           Los Angeles Cty/Usc Med Ctr   \n",
      "8                           Los Angeles Cty/Usc Med Ctr   \n",
      "9                  Gynecology Oncology Middle Tennessee   \n",
      "14                             Milton S Hershey Med Ctr   \n",
      "31                             Kansas City Internal Med   \n",
      "...                                                 ...   \n",
      "4171                                                  0   \n",
      "4178                              701 Park Avenue South   \n",
      "4195                            Garden General Services   \n",
      "4201    The Ohio State University Wexner Medical Center   \n",
      "4254  Northwestern University Feinberg School Of Med...   \n",
      "\n",
      "                                  Address         City State Cntry    Zip  \\\n",
      "7                         1200 N State St  Los Angeles    CA   USA  90033   \n",
      "8                         1200 N State St  Los Angeles    CA   USA  90033   \n",
      "9                          2021 Church St    Nashville    TN   USA  37203   \n",
      "14    500 University Dr Rm C 6830 Box 850      Hershey    PA   USA  17033   \n",
      "31            6420 Prospect Ave Ste T 101  Kansas City    MO   USA  64132   \n",
      "...                                   ...          ...   ...   ...    ...   \n",
      "4171            763 South New Ballas Road    St. Louis    MO   USA  63141   \n",
      "4178                701 Park Avenue South  Minneapolis    MN   USA  55415   \n",
      "4195              8210-A West Flagler St.        Miami    FL   USA  33144   \n",
      "4201           395 W. 12Th Ave., 7Th Flr.     Columbus    OH   USA  43210   \n",
      "4254             303 E Chicago Ave #7-101      Chicago    IL   USA  60611   \n",
      "\n",
      "     Insp. Date Insp. Type insp_class  insp_codes  \n",
      "7      03/30/87         DA       VAI2         NaN  \n",
      "8      11/30/93         DA        VAI         NaN  \n",
      "9      07/13/87         DA        NAI         NaN  \n",
      "14     08/31/95         DA        NAI         NaN  \n",
      "31     07/22/02         DA        NAI         NaN  \n",
      "...         ...        ...        ...         ...  \n",
      "4171   02/21/14         FC        VAI         NaN  \n",
      "4178   06/23/14         FC        OAI         NaN  \n",
      "4195   03/20/18         FC        VAI         NaN  \n",
      "4201   04/30/18         FC        VAI         NaN  \n",
      "4254   03/06/18         FC        NAI         NaN  \n",
      "\n",
      "[1031 rows x 12 columns]\n"
     ]
    }
   ],
   "source": [
    "# check \n",
    "print(insp_data_interim[insp_data_interim['insp_codes'].isnull()])"
   ]
  },
  {
   "cell_type": "code",
   "execution_count": 30,
   "metadata": {
    "papermill": {
     "duration": 0.070203,
     "end_time": "2019-12-11T15:11:13.975883",
     "exception": false,
     "start_time": "2019-12-11T15:11:13.905680",
     "status": "completed"
    },
    "tags": []
   },
   "outputs": [
    {
     "name": "stdout",
     "output_type": "stream",
     "text": [
      "      ID No.                          Name  \\\n",
      "37       839      Arnold,   John   D    MD   \n",
      "162     4682   Bodey,   Gerald   P  SR  MD   \n",
      "162     4682   Bodey,   Gerald   P  SR  MD   \n",
      "360    10639     Gentry,   Layne   O    MD   \n",
      "360    10639     Gentry,   Layne   O    MD   \n",
      "...      ...                           ...   \n",
      "3874  499117  Montero,   Alberto   J    MD   \n",
      "4041  542883      Renfroe,   Ben   J    MD   \n",
      "4208  669694   Huffman,   Cynthia       MD   \n",
      "4240  683889             Lang,   Jason   E   \n",
      "4241  684207                Amin,   Faisal   \n",
      "\n",
      "                                Location                              Address  \\\n",
      "37                                     -                       5104 E 24Th St   \n",
      "162        Univ Texas Md Anderson Ca Ctr                   1515 Holcombe Blvd   \n",
      "162        Univ Texas Md Anderson Ca Ctr                   1515 Holcombe Blvd   \n",
      "360              St Lukes Episcopal Hosp                     6720 Bertner Ave   \n",
      "360              St Lukes Episcopal Hosp                     6720 Bertner Ave   \n",
      "...                                  ...                                  ...   \n",
      "3874             Musc Hematol/Concol Div         96 Jonathan Lucas St Csb 903   \n",
      "4041  Nw Fl Clinical Research Group, Llc   400 Gulf Breeze Parkway, Suite 203   \n",
      "4208                   Meridien Research  5411 Beaumont Center Blvd Suite 760   \n",
      "4240                    Nemours Children                   807 Children'S Way   \n",
      "4241        Central Valley Research, Llc          1541 Florida Ave, Suite 303   \n",
      "\n",
      "              City State Cntry    Zip Insp. Date Insp. Type insp_class  \\\n",
      "37     Kansas City    MO   USA  64127   10/04/83         DA        NAI   \n",
      "162        Houston    TX   USA  77030   11/20/81         DA       OAIC   \n",
      "162        Houston    TX   USA  77030   11/20/81         DA       OAIC   \n",
      "360        Houston    TX   USA  77030   12/11/84         DA      VAI3R   \n",
      "360        Houston    TX   USA  77030   12/11/84         DA      VAI3R   \n",
      "...            ...   ...   ...    ...        ...        ...        ...   \n",
      "3874    Charleston    SC   USA  29425   04/11/11         FC        VAI   \n",
      "4041  Gulf Breeze,    FL   USA  32561   06/19/17         FC        NAI   \n",
      "4208         Tampa    FL   USA  33634   10/24/16         FC        NAI   \n",
      "4240  Jacksonville    FL   USA  32207   08/07/17         FC        VAI   \n",
      "4241       Modesto    CA   USA  95350   10/11/18         FC        NAI   \n",
      "\n",
      "      insp_codes  \n",
      "37           NaN  \n",
      "162          3.0  \n",
      "162         15.0  \n",
      "360          3.0  \n",
      "360          4.0  \n",
      "...          ...  \n",
      "3874         6.0  \n",
      "4041         0.0  \n",
      "4208         0.0  \n",
      "4240         4.0  \n",
      "4241         0.0  \n",
      "\n",
      "[135 rows x 12 columns]\n"
     ]
    }
   ],
   "source": [
    "#find duplicates\n",
    "\n",
    "duplicateRowsDF = insp_data_interim[insp_data_interim.duplicated()]\n",
    "\n",
    "print(duplicateRowsDF)\n"
   ]
  },
  {
   "cell_type": "code",
   "execution_count": 31,
   "metadata": {
    "papermill": {
     "duration": 0.063496,
     "end_time": "2019-12-11T15:11:14.082796",
     "exception": false,
     "start_time": "2019-12-11T15:11:14.019300",
     "status": "completed"
    },
    "tags": []
   },
   "outputs": [],
   "source": [
    "# drop duplicates\n",
    "insp_data_final = insp_data_interim.drop_duplicates(keep='first')"
   ]
  },
  {
   "cell_type": "code",
   "execution_count": 32,
   "metadata": {
    "papermill": {
     "duration": 0.056385,
     "end_time": "2019-12-11T15:11:14.180914",
     "exception": false,
     "start_time": "2019-12-11T15:11:14.124529",
     "status": "completed"
    },
    "tags": []
   },
   "outputs": [
    {
     "name": "stdout",
     "output_type": "stream",
     "text": [
      "(1024, 12)\n"
     ]
    }
   ],
   "source": [
    "# confirm # of rows with NaN\n",
    "print((insp_data_final[insp_data_final['insp_codes'].isnull()]).shape)"
   ]
  },
  {
   "cell_type": "markdown",
   "metadata": {
    "papermill": {
     "duration": 0.041506,
     "end_time": "2019-12-11T15:11:14.263399",
     "exception": false,
     "start_time": "2019-12-11T15:11:14.221893",
     "status": "completed"
    },
    "tags": []
   },
   "source": [
    "## load mapping data "
   ]
  },
  {
   "cell_type": "code",
   "execution_count": 33,
   "metadata": {
    "papermill": {
     "duration": 0.061047,
     "end_time": "2019-12-11T15:11:14.366222",
     "exception": false,
     "start_time": "2019-12-11T15:11:14.305175",
     "status": "completed"
    },
    "tags": []
   },
   "outputs": [],
   "source": [
    "# load csv file - created and refined based on:\n",
    "# https://www.fda.gov/drugs/enforcement-activities-fda/clinical-investigator-inspection-list-ciil-database-codes)\n",
    "mapping = pd.read_csv (file_map, encoding = 'cp1250',low_memory=False)"
   ]
  },
  {
   "cell_type": "code",
   "execution_count": 34,
   "metadata": {
    "papermill": {
     "duration": 0.060236,
     "end_time": "2019-12-11T15:11:14.470464",
     "exception": false,
     "start_time": "2019-12-11T15:11:14.410228",
     "status": "completed"
    },
    "tags": []
   },
   "outputs": [
    {
     "data": {
      "text/html": [
       "<div>\n",
       "<style scoped>\n",
       "    .dataframe tbody tr th:only-of-type {\n",
       "        vertical-align: middle;\n",
       "    }\n",
       "\n",
       "    .dataframe tbody tr th {\n",
       "        vertical-align: top;\n",
       "    }\n",
       "\n",
       "    .dataframe thead th {\n",
       "        text-align: right;\n",
       "    }\n",
       "</style>\n",
       "<table border=\"1\" class=\"dataframe\">\n",
       "  <thead>\n",
       "    <tr style=\"text-align: right;\">\n",
       "      <th></th>\n",
       "      <th>code</th>\n",
       "      <th>deficiency</th>\n",
       "      <th>cfr_reference</th>\n",
       "      <th>mapped_clinical_impact_factor</th>\n",
       "    </tr>\n",
       "  </thead>\n",
       "  <tbody>\n",
       "    <tr>\n",
       "      <th>0</th>\n",
       "      <td>1</td>\n",
       "      <td>Records availability</td>\n",
       "      <td>21 CFR 312.62</td>\n",
       "      <td>data_integrity</td>\n",
       "    </tr>\n",
       "    <tr>\n",
       "      <th>1</th>\n",
       "      <td>2</td>\n",
       "      <td>Failure to obtain and/or document subject consent</td>\n",
       "      <td>21 CFR 312.60, 50.20, 50.27</td>\n",
       "      <td>consent</td>\n",
       "    </tr>\n",
       "    <tr>\n",
       "      <th>2</th>\n",
       "      <td>3</td>\n",
       "      <td>Inadequate informed consent form</td>\n",
       "      <td>21 CFR 50.25</td>\n",
       "      <td>consent</td>\n",
       "    </tr>\n",
       "    <tr>\n",
       "      <th>3</th>\n",
       "      <td>4</td>\n",
       "      <td>Inadequate drug accountability</td>\n",
       "      <td>21 CFR 312.60, 312.62</td>\n",
       "      <td>primary_endpoints_and_safety</td>\n",
       "    </tr>\n",
       "    <tr>\n",
       "      <th>4</th>\n",
       "      <td>5</td>\n",
       "      <td>Failure to follow investigational plan</td>\n",
       "      <td>21 CFR 312.60</td>\n",
       "      <td>primary_endpoints_and_safety</td>\n",
       "    </tr>\n",
       "    <tr>\n",
       "      <th>5</th>\n",
       "      <td>6</td>\n",
       "      <td>Inadequate and inaccurate records</td>\n",
       "      <td>21 CFR 312.62</td>\n",
       "      <td>primary_endpoints</td>\n",
       "    </tr>\n",
       "    <tr>\n",
       "      <th>6</th>\n",
       "      <td>7</td>\n",
       "      <td>Unapproved concomitant therapy</td>\n",
       "      <td>21 CFR 312.60</td>\n",
       "      <td>primary_endpoints_and_safety</td>\n",
       "    </tr>\n",
       "    <tr>\n",
       "      <th>7</th>\n",
       "      <td>8</td>\n",
       "      <td>Inappropriate payment to volunteers</td>\n",
       "      <td>21 CFR 50.20</td>\n",
       "      <td>consent</td>\n",
       "    </tr>\n",
       "    <tr>\n",
       "      <th>8</th>\n",
       "      <td>9</td>\n",
       "      <td>Unapproved use of drug before IND submission</td>\n",
       "      <td>21 CFR 312.40(d)</td>\n",
       "      <td>safety</td>\n",
       "    </tr>\n",
       "    <tr>\n",
       "      <th>9</th>\n",
       "      <td>10</td>\n",
       "      <td>Inappropriate delegation of authority</td>\n",
       "      <td>21 CFR 312.7, 312.61</td>\n",
       "      <td>primary_endpoints_and_safety</td>\n",
       "    </tr>\n",
       "    <tr>\n",
       "      <th>10</th>\n",
       "      <td>11</td>\n",
       "      <td>Inappropriate use/commercialization of IND</td>\n",
       "      <td>21 CFR 312.7, 312.61</td>\n",
       "      <td>primary_endpoints_and_safety</td>\n",
       "    </tr>\n",
       "    <tr>\n",
       "      <th>11</th>\n",
       "      <td>12</td>\n",
       "      <td>Failure to list additional investigators on 1572</td>\n",
       "      <td>21 CFR 312.60</td>\n",
       "      <td>primary_endpoints</td>\n",
       "    </tr>\n",
       "    <tr>\n",
       "      <th>12</th>\n",
       "      <td>13</td>\n",
       "      <td>Subjects receiving simultaneous investigationa...</td>\n",
       "      <td>21 CFR 312.60</td>\n",
       "      <td>primary_endpoints_and_safety</td>\n",
       "    </tr>\n",
       "    <tr>\n",
       "      <th>13</th>\n",
       "      <td>14</td>\n",
       "      <td>Failure to obtain or document IRB approval</td>\n",
       "      <td>21 CFR 312.60, 62, 66; 56.103</td>\n",
       "      <td>consent</td>\n",
       "    </tr>\n",
       "    <tr>\n",
       "      <th>14</th>\n",
       "      <td>15</td>\n",
       "      <td>Failure to notify IRB of changes, failure to s...</td>\n",
       "      <td>21 CFR 312.66</td>\n",
       "      <td>consent</td>\n",
       "    </tr>\n",
       "    <tr>\n",
       "      <th>15</th>\n",
       "      <td>16</td>\n",
       "      <td>Failure to report adverse drug reactions</td>\n",
       "      <td>21 CFR 312.64, 312.66</td>\n",
       "      <td>safety</td>\n",
       "    </tr>\n",
       "    <tr>\n",
       "      <th>16</th>\n",
       "      <td>17</td>\n",
       "      <td>Submission of false information</td>\n",
       "      <td>21 CFR 312.70</td>\n",
       "      <td>primary_endpoints_and_safety</td>\n",
       "    </tr>\n",
       "    <tr>\n",
       "      <th>17</th>\n",
       "      <td>18</td>\n",
       "      <td>Other</td>\n",
       "      <td>NaN</td>\n",
       "      <td>other</td>\n",
       "    </tr>\n",
       "    <tr>\n",
       "      <th>18</th>\n",
       "      <td>19</td>\n",
       "      <td>Failure to supervise or personally conduct the...</td>\n",
       "      <td>21 CFR 312.60</td>\n",
       "      <td>primary_endpoints_and_safety</td>\n",
       "    </tr>\n",
       "    <tr>\n",
       "      <th>19</th>\n",
       "      <td>20</td>\n",
       "      <td>Failure to protect the rights, safety, and wel...</td>\n",
       "      <td>21 CFR 312.60</td>\n",
       "      <td>human_subject_protection</td>\n",
       "    </tr>\n",
       "    <tr>\n",
       "      <th>20</th>\n",
       "      <td>21</td>\n",
       "      <td>Failure to permit FDA access to records</td>\n",
       "      <td>21 CFR 312.68</td>\n",
       "      <td>human_subject_protection</td>\n",
       "    </tr>\n",
       "    <tr>\n",
       "      <th>21</th>\n",
       "      <td>22</td>\n",
       "      <td>No deficiencies noted</td>\n",
       "      <td>NaN</td>\n",
       "      <td>no_finding</td>\n",
       "    </tr>\n",
       "    <tr>\n",
       "      <th>22</th>\n",
       "      <td>23</td>\n",
       "      <td>No data reported</td>\n",
       "      <td>NaN</td>\n",
       "      <td>no_data</td>\n",
       "    </tr>\n",
       "  </tbody>\n",
       "</table>\n",
       "</div>"
      ],
      "text/plain": [
       "    code                                         deficiency  \\\n",
       "0      1                               Records availability   \n",
       "1      2  Failure to obtain and/or document subject consent   \n",
       "2      3                   Inadequate informed consent form   \n",
       "3      4                     Inadequate drug accountability   \n",
       "4      5             Failure to follow investigational plan   \n",
       "5      6                  Inadequate and inaccurate records   \n",
       "6      7                     Unapproved concomitant therapy   \n",
       "7      8                Inappropriate payment to volunteers   \n",
       "8      9       Unapproved use of drug before IND submission   \n",
       "9     10              Inappropriate delegation of authority   \n",
       "10    11         Inappropriate use/commercialization of IND   \n",
       "11    12   Failure to list additional investigators on 1572   \n",
       "12    13  Subjects receiving simultaneous investigationa...   \n",
       "13    14         Failure to obtain or document IRB approval   \n",
       "14    15  Failure to notify IRB of changes, failure to s...   \n",
       "15    16           Failure to report adverse drug reactions   \n",
       "16    17                    Submission of false information   \n",
       "17    18                                              Other   \n",
       "18    19  Failure to supervise or personally conduct the...   \n",
       "19    20  Failure to protect the rights, safety, and wel...   \n",
       "20    21            Failure to permit FDA access to records   \n",
       "21    22                              No deficiencies noted   \n",
       "22    23                                   No data reported   \n",
       "\n",
       "                    cfr_reference mapped_clinical_impact_factor  \n",
       "0                   21 CFR 312.62                data_integrity  \n",
       "1     21 CFR 312.60, 50.20, 50.27                       consent  \n",
       "2                    21 CFR 50.25                       consent  \n",
       "3           21 CFR 312.60, 312.62  primary_endpoints_and_safety  \n",
       "4                   21 CFR 312.60  primary_endpoints_and_safety  \n",
       "5                   21 CFR 312.62             primary_endpoints  \n",
       "6                   21 CFR 312.60  primary_endpoints_and_safety  \n",
       "7                    21 CFR 50.20                       consent  \n",
       "8                21 CFR 312.40(d)                        safety  \n",
       "9            21 CFR 312.7, 312.61  primary_endpoints_and_safety  \n",
       "10           21 CFR 312.7, 312.61  primary_endpoints_and_safety  \n",
       "11                  21 CFR 312.60             primary_endpoints  \n",
       "12                  21 CFR 312.60  primary_endpoints_and_safety  \n",
       "13  21 CFR 312.60, 62, 66; 56.103                       consent  \n",
       "14                  21 CFR 312.66                       consent  \n",
       "15          21 CFR 312.64, 312.66                        safety  \n",
       "16                  21 CFR 312.70  primary_endpoints_and_safety  \n",
       "17                            NaN                         other  \n",
       "18                  21 CFR 312.60  primary_endpoints_and_safety  \n",
       "19                  21 CFR 312.60      human_subject_protection  \n",
       "20                  21 CFR 312.68      human_subject_protection  \n",
       "21                            NaN                    no_finding  \n",
       "22                            NaN                       no_data  "
      ]
     },
     "execution_count": 34,
     "metadata": {},
     "output_type": "execute_result"
    }
   ],
   "source": [
    "# check\n",
    "mapping"
   ]
  },
  {
   "cell_type": "code",
   "execution_count": 35,
   "metadata": {
    "papermill": {
     "duration": 0.054371,
     "end_time": "2019-12-11T15:11:14.571002",
     "exception": false,
     "start_time": "2019-12-11T15:11:14.516631",
     "status": "completed"
    },
    "tags": []
   },
   "outputs": [],
   "source": [
    "# rename column to insp_codes to allow mapping with FDA dataset\n",
    "mapping.rename(columns={'code':'insp_codes'}, inplace=True)"
   ]
  },
  {
   "cell_type": "code",
   "execution_count": 36,
   "metadata": {
    "papermill": {
     "duration": 0.05286,
     "end_time": "2019-12-11T15:11:14.671724",
     "exception": false,
     "start_time": "2019-12-11T15:11:14.618864",
     "status": "completed"
    },
    "tags": []
   },
   "outputs": [],
   "source": [
    "# insp_codes to numeric value\n",
    "mapping['insp_codes'] = pd.to_numeric(mapping['insp_codes'])"
   ]
  },
  {
   "cell_type": "markdown",
   "metadata": {
    "papermill": {
     "duration": 0.046323,
     "end_time": "2019-12-11T15:11:14.761925",
     "exception": false,
     "start_time": "2019-12-11T15:11:14.715602",
     "status": "completed"
    },
    "tags": []
   },
   "source": [
    "## join and clean consolidated data set ('fda_inspections')"
   ]
  },
  {
   "cell_type": "code",
   "execution_count": 37,
   "metadata": {
    "papermill": {
     "duration": 0.060823,
     "end_time": "2019-12-11T15:11:14.867072",
     "exception": false,
     "start_time": "2019-12-11T15:11:14.806249",
     "status": "completed"
    },
    "tags": []
   },
   "outputs": [],
   "source": [
    "# do the join\n",
    "finalset = pd.merge (insp_data_final,mapping, on='insp_codes', how='left')"
   ]
  },
  {
   "cell_type": "code",
   "execution_count": 38,
   "metadata": {
    "papermill": {
     "duration": 0.06909,
     "end_time": "2019-12-11T15:11:14.978498",
     "exception": false,
     "start_time": "2019-12-11T15:11:14.909408",
     "status": "completed"
    },
    "tags": []
   },
   "outputs": [
    {
     "name": "stdout",
     "output_type": "stream",
     "text": [
      "(7472, 15)\n",
      "<class 'pandas.core.frame.DataFrame'>\n",
      "Int64Index: 7472 entries, 0 to 7471\n",
      "Data columns (total 15 columns):\n",
      "ID No.                           7472 non-null int64\n",
      "Name                             7472 non-null object\n",
      "Location                         7469 non-null object\n",
      "Address                          7472 non-null object\n",
      "City                             7472 non-null object\n",
      "State                            7472 non-null object\n",
      "Cntry                            7472 non-null object\n",
      "Zip                              7472 non-null object\n",
      "Insp. Date                       7455 non-null object\n",
      "Insp. Type                       7472 non-null object\n",
      "insp_class                       7472 non-null object\n",
      "insp_codes                       6448 non-null float64\n",
      "deficiency                       6421 non-null object\n",
      "cfr_reference                    5847 non-null object\n",
      "mapped_clinical_impact_factor    6421 non-null object\n",
      "dtypes: float64(1), int64(1), object(13)\n",
      "memory usage: 934.0+ KB\n"
     ]
    }
   ],
   "source": [
    "# check\n",
    "print(finalset.shape)\n",
    "finalset.info()"
   ]
  },
  {
   "cell_type": "markdown",
   "metadata": {
    "papermill": {
     "duration": 0.047998,
     "end_time": "2019-12-11T15:11:15.071210",
     "exception": false,
     "start_time": "2019-12-11T15:11:15.023212",
     "status": "completed"
    },
    "tags": []
   },
   "source": [
    "## final cleaning"
   ]
  },
  {
   "cell_type": "code",
   "execution_count": 39,
   "metadata": {
    "papermill": {
     "duration": 0.053772,
     "end_time": "2019-12-11T15:11:15.168047",
     "exception": false,
     "start_time": "2019-12-11T15:11:15.114275",
     "status": "completed"
    },
    "tags": []
   },
   "outputs": [
    {
     "name": "stdout",
     "output_type": "stream",
     "text": [
      "[ 5.  3. 22. 15.  6. nan  0.  4.  7. 16. 12. 14. 18.  1.  2.  8. 10. 13.\n",
      " 11.  9. 17. 20. 19.]\n"
     ]
    }
   ],
   "source": [
    "print(finalset.insp_codes.unique())"
   ]
  },
  {
   "cell_type": "code",
   "execution_count": 40,
   "metadata": {
    "papermill": {
     "duration": 0.064733,
     "end_time": "2019-12-11T15:11:15.275696",
     "exception": false,
     "start_time": "2019-12-11T15:11:15.210963",
     "status": "completed"
    },
    "tags": []
   },
   "outputs": [
    {
     "name": "stdout",
     "output_type": "stream",
     "text": [
      "      ID No.                              Name  \\\n",
      "11       113   Vlachakis,   Nicholas   D    MD   \n",
      "12       113   Vlachakis,   Nicholas   D    MD   \n",
      "13       146      Homesley,   Howard   D    MD   \n",
      "26       271          Lipton,   Allan       MD   \n",
      "57       748    Pendergrass,   Kelly   B    MD   \n",
      "...      ...                               ...   \n",
      "7342  642028                Chisti,   Mohammad   \n",
      "7351  648641                   Driver,   Brian   \n",
      "7372  661444  Castellon,   Celestino   P    MD   \n",
      "7379  666448                  Racke,   Michael   \n",
      "7449  697186                Meltzer,   Herbert   \n",
      "\n",
      "                                               Location  \\\n",
      "11                          Los Angeles Cty/Usc Med Ctr   \n",
      "12                          Los Angeles Cty/Usc Med Ctr   \n",
      "13                 Gynecology Oncology Middle Tennessee   \n",
      "26                             Milton S Hershey Med Ctr   \n",
      "57                             Kansas City Internal Med   \n",
      "...                                                 ...   \n",
      "7342                                                  0   \n",
      "7351                              701 Park Avenue South   \n",
      "7372                            Garden General Services   \n",
      "7379    The Ohio State University Wexner Medical Center   \n",
      "7449  Northwestern University Feinberg School Of Med...   \n",
      "\n",
      "                                  Address         City State Cntry    Zip  \\\n",
      "11                        1200 N State St  Los Angeles    CA   USA  90033   \n",
      "12                        1200 N State St  Los Angeles    CA   USA  90033   \n",
      "13                         2021 Church St    Nashville    TN   USA  37203   \n",
      "26    500 University Dr Rm C 6830 Box 850      Hershey    PA   USA  17033   \n",
      "57            6420 Prospect Ave Ste T 101  Kansas City    MO   USA  64132   \n",
      "...                                   ...          ...   ...   ...    ...   \n",
      "7342            763 South New Ballas Road    St. Louis    MO   USA  63141   \n",
      "7351                701 Park Avenue South  Minneapolis    MN   USA  55415   \n",
      "7372              8210-A West Flagler St.        Miami    FL   USA  33144   \n",
      "7379           395 W. 12Th Ave., 7Th Flr.     Columbus    OH   USA  43210   \n",
      "7449             303 E Chicago Ave #7-101      Chicago    IL   USA  60611   \n",
      "\n",
      "     Insp. Date Insp. Type insp_class  insp_codes deficiency cfr_reference  \\\n",
      "11     03/30/87         DA       VAI2         NaN        NaN           NaN   \n",
      "12     11/30/93         DA        VAI         NaN        NaN           NaN   \n",
      "13     07/13/87         DA        NAI         NaN        NaN           NaN   \n",
      "26     08/31/95         DA        NAI         NaN        NaN           NaN   \n",
      "57     07/22/02         DA        NAI         NaN        NaN           NaN   \n",
      "...         ...        ...        ...         ...        ...           ...   \n",
      "7342   02/21/14         FC        VAI         NaN        NaN           NaN   \n",
      "7351   06/23/14         FC        OAI         NaN        NaN           NaN   \n",
      "7372   03/20/18         FC        VAI         NaN        NaN           NaN   \n",
      "7379   04/30/18         FC        VAI         NaN        NaN           NaN   \n",
      "7449   03/06/18         FC        NAI         NaN        NaN           NaN   \n",
      "\n",
      "     mapped_clinical_impact_factor  \n",
      "11                             NaN  \n",
      "12                             NaN  \n",
      "13                             NaN  \n",
      "26                             NaN  \n",
      "57                             NaN  \n",
      "...                            ...  \n",
      "7342                           NaN  \n",
      "7351                           NaN  \n",
      "7372                           NaN  \n",
      "7379                           NaN  \n",
      "7449                           NaN  \n",
      "\n",
      "[1024 rows x 15 columns]\n"
     ]
    }
   ],
   "source": [
    "print(finalset[finalset['insp_codes'].isnull()])"
   ]
  },
  {
   "cell_type": "code",
   "execution_count": 41,
   "metadata": {
    "papermill": {
     "duration": 0.057207,
     "end_time": "2019-12-11T15:11:15.381791",
     "exception": false,
     "start_time": "2019-12-11T15:11:15.324584",
     "status": "completed"
    },
    "tags": []
   },
   "outputs": [],
   "source": [
    "# Add insp_code '23' --> \"no data reported\"\n",
    "\n",
    "finalset['insp_codes'].fillna(23, inplace=True)"
   ]
  },
  {
   "cell_type": "code",
   "execution_count": 42,
   "metadata": {
    "papermill": {
     "duration": 0.06547,
     "end_time": "2019-12-11T15:11:15.496657",
     "exception": false,
     "start_time": "2019-12-11T15:11:15.431187",
     "status": "completed"
    },
    "tags": []
   },
   "outputs": [
    {
     "name": "stdout",
     "output_type": "stream",
     "text": [
      "(0, 15)\n"
     ]
    }
   ],
   "source": [
    "# confirm no NaN\n",
    "print((finalset[finalset['insp_codes'].isnull()]).shape)"
   ]
  },
  {
   "cell_type": "code",
   "execution_count": 43,
   "metadata": {
    "papermill": {
     "duration": 0.325447,
     "end_time": "2019-12-11T15:11:15.884450",
     "exception": false,
     "start_time": "2019-12-11T15:11:15.559003",
     "status": "completed"
    },
    "tags": []
   },
   "outputs": [],
   "source": [
    "# Export to csv the final set\n",
    "finalset.to_csv(file_out)"
   ]
  }
 ],
 "metadata": {
  "celltoolbar": "Tags",
  "kernelspec": {
   "display_name": "Python 3",
   "language": "python",
   "name": "python3"
  },
  "language_info": {
   "codemirror_mode": {
    "name": "ipython",
    "version": 3
   },
   "file_extension": ".py",
   "mimetype": "text/x-python",
   "name": "python",
   "nbconvert_exporter": "python",
   "pygments_lexer": "ipython3",
   "version": "3.7.3"
  },
  "papermill": {
   "duration": 7.108094,
   "end_time": "2019-12-11T15:11:16.268545",
   "environment_variables": {},
   "exception": null,
   "input_path": "notebooks/inspection_fda_data_cleaning_mapping.ipynb",
   "output_path": "notebooks/inspection_fda_data_cleaning_mapping.ipynb",
   "parameters": {
    "file": "data/input/raw_clinical_investigator_inspection_fc.xls",
    "file2": "data/input/raw_clinical_investigator_inspection_da.xls",
    "file_map": "data/input/refined_mapping_fda_inspections_code.csv",
    "file_out": "data/output/final_set_FDA.csv"
   },
   "start_time": "2019-12-11T15:11:09.160451",
   "version": "1.2.1"
  },
  "toc": {
   "nav_menu": {},
   "number_sections": true,
   "sideBar": true,
   "skip_h1_title": false,
   "title_cell": "Table of Contents",
   "title_sidebar": "Contents",
   "toc_cell": false,
   "toc_position": {},
   "toc_section_display": true,
   "toc_window_display": false
  }
 },
 "nbformat": 4,
 "nbformat_minor": 2
}